{
 "cells": [
  {
   "cell_type": "markdown",
   "metadata": {},
   "source": [
    "# Importing Data\n",
    "\n",
    "This notebook tests importing data from GOES"
   ]
  },
  {
   "cell_type": "code",
   "execution_count": 1,
   "metadata": {},
   "outputs": [
    {
     "name": "stdout",
     "output_type": "stream",
     "text": [
      "Filename: /Users/chris/Documents/QPP/SolarFlareGPs/data/daniela_goes_data/go1520110128.fits\n",
      "No.    Name         Type      Cards   Dimensions   Format\n",
      "  0  PRIMARY     PrimaryHDU      25   ()      \n",
      "  1  EDGES       BinTableHDU     18   1R x 1C   [4E]   \n",
      "  2  FLUXES      BinTableHDU     32   1R x 2C   [42170D, 84340E]   \n",
      "  3  STATUS      BinTableHDU     30   1R x 2C   [1E, 2E]   \n"
     ]
    }
   ],
   "source": [
    "import numpy as np\n",
    "import matplotlib.pyplot as plt\n",
    "from astropy.io import fits\n",
    "from stingray import Lightcurve\n",
    "\n",
    "%matplotlib qt\n",
    "\n",
    "\n",
    "datadir = \"/Users/chris/Documents/QPP/SolarFlareGPs/data/daniela_goes_data/\"\n",
    "burstid = 1520110128 #\"go1520110128.fits\"\n",
    "hdulist = fits.open(datadir+\"go\"+str(burstid)+'.fits')\n",
    "hdulist.info()\n",
    "\n",
    "def load_data(datadir, burstid):\n",
    "    f = datadir+'go'+str(burstid)+'.fits'\n",
    "    hdulist = fits.open(f)\n",
    "    data = hdulist[2].data\n",
    "    time = data.field('TIME')\n",
    "    flux = np.sum(data.field('FLUX'), axis=2)[0]\n",
    "    time = time[0]-time[0,0]\n",
    "    return time, flux\n",
    "\n",
    "def trim_data(time, flux, pre=500, post=1500):\n",
    "    maxin = np.where(flux == np.max(flux))[0][0]\n",
    "    if maxin<pre:\n",
    "        pre=maxin-1\n",
    "    if len(time)-maxin<post:\n",
    "        post = len(time)-maxin -1\n",
    "    time_trim = time[(maxin-pre):(maxin+post)]\n",
    "    if (len(time_trim)==0):\n",
    "        print(\"\\nNo time at index: \" + str(maxin) + \"\\nPre: \" + str(pre) + \"\\tPost: \" + str(post))\n",
    "    time_trim = time_trim-time_trim[0]\n",
    "    flux_trim = flux[(maxin-pre):(maxin+post)]\n",
    "    return time_trim, flux_trim\n"
   ]
  },
  {
   "cell_type": "code",
   "execution_count": null,
   "metadata": {
    "collapsed": true
   },
   "outputs": [],
   "source": [
    "hdulist[0].header"
   ]
  },
  {
   "cell_type": "code",
   "execution_count": null,
   "metadata": {
    "collapsed": true
   },
   "outputs": [],
   "source": [
    "hdulist[1].header"
   ]
  },
  {
   "cell_type": "code",
   "execution_count": null,
   "metadata": {
    "collapsed": true
   },
   "outputs": [],
   "source": [
    "hdulist[1].data"
   ]
  },
  {
   "cell_type": "code",
   "execution_count": null,
   "metadata": {
    "collapsed": true,
    "scrolled": true
   },
   "outputs": [],
   "source": [
    "hdulist[2].header"
   ]
  },
  {
   "cell_type": "code",
   "execution_count": null,
   "metadata": {
    "collapsed": true
   },
   "outputs": [],
   "source": [
    "data = hdulist[2].data\n",
    "time = data.field('TIME')\n",
    "flux = np.sum(data.field('FLUX'), axis=2)[0]\n",
    "time = time[0]-time[0,0]\n",
    "print flux.shape"
   ]
  },
  {
   "cell_type": "code",
   "execution_count": null,
   "metadata": {
    "collapsed": true
   },
   "outputs": [],
   "source": [
    "dt = np.diff(time)\n",
    "plt.plot(time[:-1],dt)\n",
    "print time[:-1]\n",
    "print dt\n",
    "plt.show()"
   ]
  },
  {
   "cell_type": "code",
   "execution_count": null,
   "metadata": {
    "collapsed": true
   },
   "outputs": [],
   "source": [
    "datadir = \"/Users/chris/Documents/QPP/SolarFlareGPs/data/daniela_goes_data/\"\n",
    "burstid = 1520110213\n",
    "\n",
    "\n",
    "   \n",
    "time,flux = load_data(datadir,burstid)\n",
    "plt.figure()\n",
    "plt.plot(time,flux)\n",
    "dt = np.diff(time)\n",
    "plt.plot(time[:-1], dt * 5e-7)\n",
    "#plt.show()"
   ]
  },
  {
   "cell_type": "code",
   "execution_count": null,
   "metadata": {
    "collapsed": true
   },
   "outputs": [],
   "source": [
    "maxin = np.where(flux == np.max(flux))[0][0]\n",
    "print maxin\n",
    "prestep = 1000\n",
    "poststep = 3000\n",
    "timeslice = time[maxin-prestep:maxin+poststep]\n",
    "timeslice = timeslice-timeslice[0]\n",
    "fluxslice = flux[maxin-prestep:maxin+poststep]\n",
    "plt.plot(timeslice,fluxslice)\n",
    "#plt.show()"
   ]
  },
  {
   "cell_type": "code",
   "execution_count": null,
   "metadata": {
    "collapsed": true
   },
   "outputs": [],
   "source": [
    "\n",
    "\n",
    "tt, ft = trim_data(time,flux)\n",
    "print tt\n",
    "print ft\n",
    "plt.plot(tt,ft)\n",
    "#plt.show()"
   ]
  },
  {
   "cell_type": "code",
   "execution_count": null,
   "metadata": {
    "collapsed": true
   },
   "outputs": [],
   "source": [
    "datadir = \"/Users/chris/Documents/QPP/SolarFlareGPs/data/daniela_goes_data/\"\n",
    "'''\n",
    "for burstid in range(1520110128,1520170715):\n",
    "    try:\n",
    "        time, flux = load_data(datadir,burstid)\n",
    "    except(IOError):\n",
    "        pass\n",
    "    else:\n",
    "        try:\n",
    "            tt, ft = trim_data(time,flux)\n",
    "        except IndexError as err :\n",
    "            print(\"Index error w/ burst \" + str(burstid) +\": {}\".format(err))\n",
    "            print time\n",
    "            print flux\n",
    "            print \"\\n\"\n",
    "            pass\n",
    "        else:\n",
    "            plt.figure()\n",
    "            plt.title(\"Burst \" + str(burstid))\n",
    "            plt.plot(tt,ft)\n",
    "\n",
    "plt.show()\n",
    "'''"
   ]
  },
  {
   "cell_type": "code",
   "execution_count": null,
   "metadata": {},
   "outputs": [],
   "source": []
  }
 ],
 "metadata": {
  "kernelspec": {
   "display_name": "Python 2",
   "language": "python",
   "name": "python2"
  },
  "language_info": {
   "codemirror_mode": {
    "name": "ipython",
    "version": 2
   },
   "file_extension": ".py",
   "mimetype": "text/x-python",
   "name": "python",
   "nbconvert_exporter": "python",
   "pygments_lexer": "ipython2",
   "version": "2.7.12"
  }
 },
 "nbformat": 4,
 "nbformat_minor": 2
}
