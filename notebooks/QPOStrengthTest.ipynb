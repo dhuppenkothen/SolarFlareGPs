{
 "cells": [
  {
   "cell_type": "code",
   "execution_count": null,
   "metadata": {},
   "outputs": [
    {
     "name": "stdout",
     "output_type": "stream",
     "text": [
      "Running Q: 0.0\t S: 1.0\n",
      "\n",
      "Initial log-likelihood: -74969734.6072\n",
      "Final log-likelihood: -13231.061308\n",
      "Optimized log-parameters: [ 2.08525822e-05 -1.27240342e-05  1.59127701e-05 -1.91459327e-06\n",
      " -8.76715860e-07  1.13384610e+01  6.92337331e+00  6.85180036e+00]\n",
      "Burning in...\n",
      "Sampling...\n",
      "Done!\n"
     ]
    },
    {
     "name": "stderr",
     "output_type": "stream",
     "text": [
      "WARNING:root:Too few points to create valid contours\n",
      "WARNING:root:Too few points to create valid contours\n",
      "WARNING:root:Too few points to create valid contours\n",
      "WARNING:root:Too few points to create valid contours\n",
      "WARNING:root:Too few points to create valid contours\n",
      "WARNING:root:Too few points to create valid contours\n"
     ]
    },
    {
     "name": "stdout",
     "output_type": "stream",
     "text": [
      "Stored flare at Data/Simulating/simulated_burst_A1.00Q0.00w0.30/data\n",
      "Running Q: 0.7475\t S: 1.0\n",
      "\n",
      "Initial log-likelihood: -75234655.3002\n",
      "Final log-likelihood: -13278.1444874\n",
      "Optimized log-parameters: [ 2.52153153e-05 -1.23717716e-05  2.00883444e-05  2.81477010e-06\n",
      "  5.76713637e-06  1.13385004e+01  6.92283268e+00  6.85223925e+00]\n",
      "Burning in...\n",
      "Sampling...\n",
      "Done!\n",
      "Stored flare at Data/Simulating/simulated_burst_A1.00Q0.75w0.30/data\n",
      "Running Q: 1.495\t S: 1.0\n",
      "\n",
      "Initial log-likelihood: -74369249.5642\n",
      "Final log-likelihood: -13217.7439884\n",
      "Optimized log-parameters: [ 2.55941072e-05 -1.31316288e-05  2.00039424e-05  1.09514053e-06\n",
      "  3.83922150e-06  1.13386033e+01  6.92241444e+00  6.85234765e+00]\n",
      "Burning in...\n"
     ]
    }
   ],
   "source": [
    "import numpy as np\n",
    "import scipy as sp\n",
    "from scipy import signal\n",
    "import matplotlib.pyplot as plt\n",
    "import QPP_Funcs as qpp\n",
    "import celerite as ce\n",
    "import os\n",
    "\n",
    "s0 = np.linspace(1,9.99,4)\n",
    "q = np.linspace(0,2.99,5)\n",
    "\n",
    "for s0i in s0:\n",
    "    for qi in q:\n",
    "        print(\"Running Q: \"+ str(qi) + \"\\t S: \" + str(s0i) +\"\\n\")\n",
    "        realparams = [-.13, -1.4] \n",
    "        qpoparams = [s0i, qi, .3]\n",
    "        modelparams = [11.33844804, 6.92311406, 6.85207764]\n",
    "        trueparams = realparams + qpoparams + modelparams\n",
    "\n",
    "        model = qpp.CTSModel_prior(log_A = modelparams[0], log_tau1 = modelparams[1], log_tau2 = modelparams[2])\n",
    "        kernel1 = qpp.SHOTerm_Prior(log_S0 = qpoparams[0], log_Q = qpoparams[1], log_omega0 = qpoparams[2])\n",
    "        kernel2 = qpp.RealTerm_Prior(log_a = realparams[0], log_c = realparams[1])\n",
    "        kernel = kernel2 + kernel1\n",
    "\n",
    "        t = np.linspace(0,4000,2000)\n",
    "        I = qpp.simulate(t, model, kernel, noisy = True)\n",
    "\n",
    "\n",
    "\n",
    "\n",
    "        A_guess, t1_guess, t2_guess = qpp.initguess(t,I)\n",
    "        model = qpp.CTSModel_prior(log_A = np.log(A_guess), log_tau1 = np.log(t1_guess), log_tau2 = np.log(t2_guess))\n",
    "        kernel1 = qpp.SHOTerm_Prior(log_S0 = 0, log_Q = 0, log_omega0 = 0) #write guesser for kernel parameters\n",
    "        kernel2 = qpp.RealTerm_Prior(log_a=0., log_c=0.) #write guesser for kernel parameters\n",
    "        kernel = kernel2 + kernel1\n",
    "        gp = ce.GP(kernel, mean=model, fit_mean=True)\n",
    "        gp.compute(t, np.sqrt(I))\n",
    "        initparams = gp.get_parameter_vector()\n",
    "\n",
    "\n",
    "\n",
    "        soln = qpp.optimize_gp(gp, I)\n",
    "        gp.set_parameter_vector(soln.x)\n",
    "        figopt = qpp.plot_gp(t, I, np.sqrt(I), gp, model, predict=True, label = \"Optimized fit\")\n",
    "\n",
    "        #sampling\n",
    "        sampler = qpp.sample_gp(initparams, I, gp, burnin=8000, nwalkers=100, nsteps = 2000)\n",
    "        chain = sampler.chain\n",
    "\n",
    "\n",
    "        figsam = qpp.plot_chain(chain, labels = gp.get_parameter_names())\n",
    "\n",
    "\n",
    "        figoptsam = qpp.plot_gp(t, I, np.sqrt(I), gp, model, chain=chain)\n",
    "\n",
    "        figcorner, maxparams = qpp.plot_corner(chain, labels = gp.get_parameter_names(), truevals = trueparams)\n",
    "\n",
    "\n",
    "        header = \"Rednoise Kernel Params: \\t\"+str(realparams) + \"\\nQPO Params: \\t\" + str(qpoparams) + \"\\nEnvelope Params \\t\" + str(modelparams) + \"\\nTrue Parameter Vector: \\t\" + str(trueparams) + \"\\nMaxParams: \\t\" + str(maxparams)\n",
    "        qpolabel = \"A{:1.2f}\".format(qpoparams[0])+\"Q{:1.2f}\".format(qpoparams[1])+\"w{:1.2f}\".format(qpoparams[2])\n",
    "        fname = \"Data/Simulating/simulated_burst_\" + qpolabel+\"/\"\n",
    "\n",
    "        if not os.path.exists(fname):\n",
    "            os.makedirs(fname)\n",
    "            qpp.store_flare(fname+\"data\", header, t, I, soln.x, chain)\n",
    "            figsam.savefig(fname+\"chain_ts.png\")\n",
    "            figoptsam.savefig(fname+\"lc_plot.png\")\n",
    "            figcorner.savefig(fname+\"chain_corner.png\")\n",
    "\n",
    "            textheader = open(fname+\"header.txt\",'w')\n",
    "            textheader.write(header)\n",
    "            textheader.close()\n",
    "        else:\n",
    "            print \"directory exists\"\n"
   ]
  },
  {
   "cell_type": "code",
   "execution_count": null,
   "metadata": {},
   "outputs": [],
   "source": []
  }
 ],
 "metadata": {
  "kernelspec": {
   "display_name": "Python 2",
   "language": "python",
   "name": "python2"
  },
  "language_info": {
   "codemirror_mode": {
    "name": "ipython",
    "version": 2
   },
   "file_extension": ".py",
   "mimetype": "text/x-python",
   "name": "python",
   "nbconvert_exporter": "python",
   "pygments_lexer": "ipython2",
   "version": "2.7.14"
  }
 },
 "nbformat": 4,
 "nbformat_minor": 2
}
