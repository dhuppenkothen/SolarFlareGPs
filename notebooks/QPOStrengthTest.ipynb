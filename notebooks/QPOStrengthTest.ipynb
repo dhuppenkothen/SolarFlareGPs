{
 "cells": [
  {
   "cell_type": "code",
   "execution_count": 3,
   "metadata": {},
   "outputs": [],
   "source": [
    "import numpy as np\n",
    "import scipy as sp\n",
    "from scipy import signal\n",
    "import matplotlib.pyplot as plt\n",
    "import QPP_Funcs as qpp\n",
    "import celerite as ce\n",
    "import os\n",
    "from celerite.solver import LinAlgError\n",
    "import dynesty\n",
    "from dynesty import utils as dyfunc\n",
    "\n",
    "SHO_prior_bounds  = [(np.log(1), np.log(1e7)),(np.log(2), np.log(20)), (2, 7)]\n",
    "CTSModel_prior_bounds  = [(np.log(1), np.log(1e7)), (np.log(1), np.log(1e4)), (np.log(1), np.log(1e7)), (-10, 10)]\n",
    "RealTerm_prior_bounds  = [(-20,20), (-20,10)]\n",
    "\n",
    "bound_vec = SHO_prior_bounds  + CTSModel_prior_bounds\n",
    "bound_vec2 = RealTerm_prior_bounds + CTSModel_prior_bounds\n",
    "prior_transform = qpp.make_prior_transform(bound_vec)\n",
    "prior_transform2 = qpp.make_prior_transform(bound_vec2)\n",
    "\n",
    "\n",
    "s0 = np.linspace(np.log(2), np.log(9e6),5)\n",
    "q = np.linspace(np.log(3), np.log(19),5)\n",
    "\n",
    "datadir = \"Data/Simulating/08282018/\"\n",
    "loc = (datadir + \"simulated_burst_\")"
   ]
  },
  {
   "cell_type": "code",
   "execution_count": 14,
   "metadata": {
    "scrolled": false
   },
   "outputs": [
    {
     "name": "stdout",
     "output_type": "stream",
     "text": [
      "Exists at: Data/Simulating/08172018/simulated_burst_S0.69Q1.10w3.00/\n",
      "Exists at: Data/Simulating/08172018/simulated_burst_S0.69Q1.30w3.00/\n",
      "Exists at: Data/Simulating/08172018/simulated_burst_S0.69Q1.51w3.00/\n",
      "Exists at: Data/Simulating/08172018/simulated_burst_S0.69Q1.71w3.00/\n",
      "Running S: 0.6931471805599453\tQ: 1.9189797066673677\n",
      "Saving at: Data/Simulating/08172018/simulated_burst_S0.69Q1.92w3.00/\n",
      "\n",
      "Sampling2 ...\n"
     ]
    },
    {
     "name": "stderr",
     "output_type": "stream",
     "text": [
      "iter: 33172 | batch: 3 | bound: 1895 | nc: 25 | ncall: 1388041 | eff(%):  2.390 | loglstar: -13431.552 < -13422.896 < -13429.768 | logz: -13466.296 +/-    nan | stop:  0.997                 \n"
     ]
    },
    {
     "name": "stdout",
     "output_type": "stream",
     "text": [
      "Sampling1 ...\n"
     ]
    },
    {
     "name": "stderr",
     "output_type": "stream",
     "text": [
      "iter: 20981 | batch: 0 | bound: 1254 | nc: 25 | ncall: 824990 | eff(%):  2.542 | loglstar:   -inf < -13426.088 <    inf | logz: -13468.655 +/-    nan | dlogz:  6.010 >  0.010                "
     ]
    },
    {
     "ename": "KeyboardInterrupt",
     "evalue": "",
     "output_type": "error",
     "traceback": [
      "\u001b[0;31m---------------------------------------------------------------------------\u001b[0m",
      "\u001b[0;31mKeyboardInterrupt\u001b[0m                         Traceback (most recent call last)",
      "\u001b[0;32m<ipython-input-14-b0c545ab3c34>\u001b[0m in \u001b[0;36m<module>\u001b[0;34m()\u001b[0m\n\u001b[1;32m     60\u001b[0m \u001b[0;34m\u001b[0m\u001b[0m\n\u001b[1;32m     61\u001b[0m         \u001b[0;32mprint\u001b[0m \u001b[0;34m\"Sampling1 ...\"\u001b[0m\u001b[0;34m\u001b[0m\u001b[0m\n\u001b[0;32m---> 62\u001b[0;31m         \u001b[0msampler\u001b[0m\u001b[0;34m.\u001b[0m\u001b[0mrun_nested\u001b[0m\u001b[0;34m(\u001b[0m\u001b[0;34m)\u001b[0m\u001b[0;34m\u001b[0m\u001b[0m\n\u001b[0m\u001b[1;32m     63\u001b[0m         \u001b[0mres\u001b[0m \u001b[0;34m=\u001b[0m \u001b[0msampler\u001b[0m\u001b[0;34m.\u001b[0m\u001b[0mresults\u001b[0m\u001b[0;34m\u001b[0m\u001b[0m\n\u001b[1;32m     64\u001b[0m         \u001b[0mbayesfac\u001b[0m \u001b[0;34m=\u001b[0m \u001b[0mres\u001b[0m\u001b[0;34m.\u001b[0m\u001b[0mlogz\u001b[0m\u001b[0;34m[\u001b[0m\u001b[0;34m-\u001b[0m\u001b[0;36m1\u001b[0m\u001b[0;34m:\u001b[0m\u001b[0;34m]\u001b[0m\u001b[0;34m\u001b[0m\u001b[0m\n",
      "\u001b[0;32m/home/chris/.local/lib/python2.7/site-packages/dynesty/dynamicsampler.pyc\u001b[0m in \u001b[0;36mrun_nested\u001b[0;34m(self, nlive_init, maxiter_init, maxcall_init, dlogz_init, logl_max_init, nlive_batch, wt_function, wt_kwargs, maxiter_batch, maxcall_batch, maxiter, maxcall, maxbatch, stop_function, stop_kwargs, use_stop, save_bounds, print_progress, print_func, live_points)\u001b[0m\n\u001b[1;32m   1543\u001b[0m                                                \u001b[0mmaxiter\u001b[0m\u001b[0;34m=\u001b[0m\u001b[0mmaxiter_init\u001b[0m\u001b[0;34m,\u001b[0m\u001b[0;34m\u001b[0m\u001b[0m\n\u001b[1;32m   1544\u001b[0m                                                \u001b[0mlogl_max\u001b[0m\u001b[0;34m=\u001b[0m\u001b[0mlogl_max_init\u001b[0m\u001b[0;34m,\u001b[0m\u001b[0;34m\u001b[0m\u001b[0m\n\u001b[0;32m-> 1545\u001b[0;31m                                                live_points=live_points):\n\u001b[0m\u001b[1;32m   1546\u001b[0m                 (worst, ustar, vstar, loglstar, logvol,\n\u001b[1;32m   1547\u001b[0m                  \u001b[0mlogwt\u001b[0m\u001b[0;34m,\u001b[0m \u001b[0mlogz\u001b[0m\u001b[0;34m,\u001b[0m \u001b[0mlogzvar\u001b[0m\u001b[0;34m,\u001b[0m \u001b[0mh\u001b[0m\u001b[0;34m,\u001b[0m \u001b[0mnc\u001b[0m\u001b[0;34m,\u001b[0m \u001b[0mworst_it\u001b[0m\u001b[0;34m,\u001b[0m\u001b[0;34m\u001b[0m\u001b[0m\n",
      "\u001b[0;32m/home/chris/.local/lib/python2.7/site-packages/dynesty/dynamicsampler.pyc\u001b[0m in \u001b[0;36msample_initial\u001b[0;34m(self, nlive, update_interval, first_update, maxiter, maxcall, logl_max, dlogz, live_points)\u001b[0m\n\u001b[1;32m    779\u001b[0m             for it, results in enumerate(self.sampler.sample(maxiter=maxiter,\n\u001b[1;32m    780\u001b[0m                                          \u001b[0msave_samples\u001b[0m\u001b[0;34m=\u001b[0m\u001b[0mFalse\u001b[0m\u001b[0;34m,\u001b[0m\u001b[0;34m\u001b[0m\u001b[0m\n\u001b[0;32m--> 781\u001b[0;31m                                          maxcall=maxcall, dlogz=dlogz)):\n\u001b[0m\u001b[1;32m    782\u001b[0m                 \u001b[0;31m# Grab results.\u001b[0m\u001b[0;34m\u001b[0m\u001b[0;34m\u001b[0m\u001b[0m\n\u001b[1;32m    783\u001b[0m                 (worst, ustar, vstar, loglstar, logvol, logwt,\n",
      "\u001b[0;32m/home/chris/.local/lib/python2.7/site-packages/dynesty/sampler.pyc\u001b[0m in \u001b[0;36msample\u001b[0;34m(self, maxiter, maxcall, dlogz, logl_max, save_bounds, save_samples)\u001b[0m\n\u001b[1;32m    699\u001b[0m             \u001b[0;31m# `logl > loglstar` using the bounding distribution and sampling\u001b[0m\u001b[0;34m\u001b[0m\u001b[0;34m\u001b[0m\u001b[0m\n\u001b[1;32m    700\u001b[0m             \u001b[0;31m# method from our sampler.\u001b[0m\u001b[0;34m\u001b[0m\u001b[0;34m\u001b[0m\u001b[0m\n\u001b[0;32m--> 701\u001b[0;31m             \u001b[0mu\u001b[0m\u001b[0;34m,\u001b[0m \u001b[0mv\u001b[0m\u001b[0;34m,\u001b[0m \u001b[0mlogl\u001b[0m\u001b[0;34m,\u001b[0m \u001b[0mnc\u001b[0m \u001b[0;34m=\u001b[0m \u001b[0mself\u001b[0m\u001b[0;34m.\u001b[0m\u001b[0m_new_point\u001b[0m\u001b[0;34m(\u001b[0m\u001b[0mloglstar_new\u001b[0m\u001b[0;34m,\u001b[0m \u001b[0mlogvol\u001b[0m\u001b[0;34m)\u001b[0m\u001b[0;34m\u001b[0m\u001b[0m\n\u001b[0m\u001b[1;32m    702\u001b[0m             \u001b[0mncall\u001b[0m \u001b[0;34m+=\u001b[0m \u001b[0mnc\u001b[0m\u001b[0;34m\u001b[0m\u001b[0m\n\u001b[1;32m    703\u001b[0m             \u001b[0mself\u001b[0m\u001b[0;34m.\u001b[0m\u001b[0mncall\u001b[0m \u001b[0;34m+=\u001b[0m \u001b[0mnc\u001b[0m\u001b[0;34m\u001b[0m\u001b[0m\n",
      "\u001b[0;32m/home/chris/.local/lib/python2.7/site-packages/dynesty/sampler.pyc\u001b[0m in \u001b[0;36m_new_point\u001b[0;34m(self, loglstar, logvol)\u001b[0m\n\u001b[1;32m    328\u001b[0m         \u001b[0;32mwhile\u001b[0m \u001b[0mTrue\u001b[0m\u001b[0;34m:\u001b[0m\u001b[0;34m\u001b[0m\u001b[0m\n\u001b[1;32m    329\u001b[0m             \u001b[0;31m# Get the next point from the queue\u001b[0m\u001b[0;34m\u001b[0m\u001b[0;34m\u001b[0m\u001b[0m\n\u001b[0;32m--> 330\u001b[0;31m             \u001b[0mu\u001b[0m\u001b[0;34m,\u001b[0m \u001b[0mv\u001b[0m\u001b[0;34m,\u001b[0m \u001b[0mlogl\u001b[0m\u001b[0;34m,\u001b[0m \u001b[0mnc\u001b[0m\u001b[0;34m,\u001b[0m \u001b[0mblob\u001b[0m \u001b[0;34m=\u001b[0m \u001b[0mself\u001b[0m\u001b[0;34m.\u001b[0m\u001b[0m_get_point_value\u001b[0m\u001b[0;34m(\u001b[0m\u001b[0mloglstar\u001b[0m\u001b[0;34m)\u001b[0m\u001b[0;34m\u001b[0m\u001b[0m\n\u001b[0m\u001b[1;32m    331\u001b[0m             \u001b[0mncall\u001b[0m \u001b[0;34m+=\u001b[0m \u001b[0mnc\u001b[0m\u001b[0;34m\u001b[0m\u001b[0m\n\u001b[1;32m    332\u001b[0m \u001b[0;34m\u001b[0m\u001b[0m\n",
      "\u001b[0;32m/home/chris/.local/lib/python2.7/site-packages/dynesty/sampler.pyc\u001b[0m in \u001b[0;36m_get_point_value\u001b[0;34m(self, loglstar)\u001b[0m\n\u001b[1;32m    312\u001b[0m         \u001b[0;31m# If the queue is empty, refill it.\u001b[0m\u001b[0;34m\u001b[0m\u001b[0;34m\u001b[0m\u001b[0m\n\u001b[1;32m    313\u001b[0m         \u001b[0;32mif\u001b[0m \u001b[0mself\u001b[0m\u001b[0;34m.\u001b[0m\u001b[0mnqueue\u001b[0m \u001b[0;34m<=\u001b[0m \u001b[0;36m0\u001b[0m\u001b[0;34m:\u001b[0m\u001b[0;34m\u001b[0m\u001b[0m\n\u001b[0;32m--> 314\u001b[0;31m             \u001b[0mself\u001b[0m\u001b[0;34m.\u001b[0m\u001b[0m_fill_queue\u001b[0m\u001b[0;34m(\u001b[0m\u001b[0mloglstar\u001b[0m\u001b[0;34m)\u001b[0m\u001b[0;34m\u001b[0m\u001b[0m\n\u001b[0m\u001b[1;32m    315\u001b[0m \u001b[0;34m\u001b[0m\u001b[0m\n\u001b[1;32m    316\u001b[0m         \u001b[0;31m# Grab the earliest entry.\u001b[0m\u001b[0;34m\u001b[0m\u001b[0;34m\u001b[0m\u001b[0m\n",
      "\u001b[0;32m/home/chris/.local/lib/python2.7/site-packages/dynesty/sampler.pyc\u001b[0m in \u001b[0;36m_fill_queue\u001b[0;34m(self, loglstar)\u001b[0m\n\u001b[1;32m    301\u001b[0m         \u001b[0;32mif\u001b[0m \u001b[0mself\u001b[0m\u001b[0;34m.\u001b[0m\u001b[0muse_pool_evolve\u001b[0m\u001b[0;34m:\u001b[0m\u001b[0;34m\u001b[0m\u001b[0m\n\u001b[1;32m    302\u001b[0m             \u001b[0;31m# Use the pool to propose (\"evolve\") a new live point.\u001b[0m\u001b[0;34m\u001b[0m\u001b[0;34m\u001b[0m\u001b[0m\n\u001b[0;32m--> 303\u001b[0;31m             \u001b[0mself\u001b[0m\u001b[0;34m.\u001b[0m\u001b[0mqueue\u001b[0m \u001b[0;34m=\u001b[0m \u001b[0mlist\u001b[0m\u001b[0;34m(\u001b[0m\u001b[0mself\u001b[0m\u001b[0;34m.\u001b[0m\u001b[0mM\u001b[0m\u001b[0;34m(\u001b[0m\u001b[0mevolve_point\u001b[0m\u001b[0;34m,\u001b[0m \u001b[0margs\u001b[0m\u001b[0;34m)\u001b[0m\u001b[0;34m)\u001b[0m\u001b[0;34m\u001b[0m\u001b[0m\n\u001b[0m\u001b[1;32m    304\u001b[0m         \u001b[0;32melse\u001b[0m\u001b[0;34m:\u001b[0m\u001b[0;34m\u001b[0m\u001b[0m\n\u001b[1;32m    305\u001b[0m             \u001b[0;31m# Propose (\"evolve\") a new live point using the default `map`\u001b[0m\u001b[0;34m\u001b[0m\u001b[0;34m\u001b[0m\u001b[0m\n",
      "\u001b[0;32m/home/chris/.local/lib/python2.7/site-packages/dynesty/sampling.pyc\u001b[0m in \u001b[0;36msample_rwalk\u001b[0;34m(args)\u001b[0m\n\u001b[1;32m    181\u001b[0m             \u001b[0;31m# Propose a direction on the unit n-sphere.\u001b[0m\u001b[0;34m\u001b[0m\u001b[0;34m\u001b[0m\u001b[0m\n\u001b[1;32m    182\u001b[0m             \u001b[0mdrhat\u001b[0m \u001b[0;34m=\u001b[0m \u001b[0mrstate\u001b[0m\u001b[0;34m.\u001b[0m\u001b[0mrandn\u001b[0m\u001b[0;34m(\u001b[0m\u001b[0mn\u001b[0m\u001b[0;34m)\u001b[0m\u001b[0;34m\u001b[0m\u001b[0m\n\u001b[0;32m--> 183\u001b[0;31m             \u001b[0mdrhat\u001b[0m \u001b[0;34m/=\u001b[0m \u001b[0mlinalg\u001b[0m\u001b[0;34m.\u001b[0m\u001b[0mnorm\u001b[0m\u001b[0;34m(\u001b[0m\u001b[0mdrhat\u001b[0m\u001b[0;34m)\u001b[0m\u001b[0;34m\u001b[0m\u001b[0m\n\u001b[0m\u001b[1;32m    184\u001b[0m \u001b[0;34m\u001b[0m\u001b[0m\n\u001b[1;32m    185\u001b[0m             \u001b[0;31m# Scale based on dimensionality.\u001b[0m\u001b[0;34m\u001b[0m\u001b[0;34m\u001b[0m\u001b[0m\n",
      "\u001b[0;32m/home/chris/.local/lib/python2.7/site-packages/numpy/linalg/linalg.pyc\u001b[0m in \u001b[0;36mnorm\u001b[0;34m(x, ord, axis, keepdims)\u001b[0m\n\u001b[1;32m   2346\u001b[0m             \u001b[0;32melse\u001b[0m\u001b[0;34m:\u001b[0m\u001b[0;34m\u001b[0m\u001b[0m\n\u001b[1;32m   2347\u001b[0m                 \u001b[0msqnorm\u001b[0m \u001b[0;34m=\u001b[0m \u001b[0mdot\u001b[0m\u001b[0;34m(\u001b[0m\u001b[0mx\u001b[0m\u001b[0;34m,\u001b[0m \u001b[0mx\u001b[0m\u001b[0;34m)\u001b[0m\u001b[0;34m\u001b[0m\u001b[0m\n\u001b[0;32m-> 2348\u001b[0;31m             \u001b[0mret\u001b[0m \u001b[0;34m=\u001b[0m \u001b[0msqrt\u001b[0m\u001b[0;34m(\u001b[0m\u001b[0msqnorm\u001b[0m\u001b[0;34m)\u001b[0m\u001b[0;34m\u001b[0m\u001b[0m\n\u001b[0m\u001b[1;32m   2349\u001b[0m             \u001b[0;32mif\u001b[0m \u001b[0mkeepdims\u001b[0m\u001b[0;34m:\u001b[0m\u001b[0;34m\u001b[0m\u001b[0m\n\u001b[1;32m   2350\u001b[0m                 \u001b[0mret\u001b[0m \u001b[0;34m=\u001b[0m \u001b[0mret\u001b[0m\u001b[0;34m.\u001b[0m\u001b[0mreshape\u001b[0m\u001b[0;34m(\u001b[0m\u001b[0mndim\u001b[0m\u001b[0;34m*\u001b[0m\u001b[0;34m[\u001b[0m\u001b[0;36m1\u001b[0m\u001b[0;34m]\u001b[0m\u001b[0;34m)\u001b[0m\u001b[0;34m\u001b[0m\u001b[0m\n",
      "\u001b[0;31mKeyboardInterrupt\u001b[0m: "
     ]
    },
    {
     "data": {
      "image/png": "[encoded data removed]",
      "text/plain": [
       "<Figure size 432x288 with 1 Axes>"
      ]
     },
     "metadata": {},
     "output_type": "display_data"
    },
    {
     "data": {
      "image/png": "[encoded data removed]",
      "text/plain": [
       "<Figure size 432x288 with 1 Axes>"
      ]
     },
     "metadata": {},
     "output_type": "display_data"
    }
   ],
   "source": [
    "for s0i in s0:\n",
    "    for qi in q:\n",
    "        qpoparams = [s0i, qi, 3]\n",
    "        qpolabel = \"S{:1.2f}\".format(qpoparams[0])+\"Q{:1.2f}\".format(qpoparams[1])+\"w{:1.2f}\".format(qpoparams[2])\n",
    "        fname = loc + qpolabel+\"/\"\n",
    "        if os.path.exists(fname):\n",
    "            print(\"Exists at: \" + fname)\n",
    "            continue\n",
    "        print(\"Running S: \" + str(s0i) + \"\\tQ: \"+ str(qi)  +\"\\nSaving at: \" + fname + '\\n')\n",
    "        qpoparams = [s0i, qi, 3]\n",
    "        realparams = [-.13, -1.4] \n",
    "        modelparams = [11.33844804, 6.92311406, 6.85207764, np.log(1000)]\n",
    "        trueparams = qpoparams + modelparams\n",
    "        ndim = len(trueparams)\n",
    "        ndim2 = len(bound_vec2)\n",
    "                \n",
    "        model = qpp.CTSModel_prior(log_A = modelparams[0], log_tau1 = modelparams[1], log_tau2 = modelparams[2], log_bkg = modelparams[3])\n",
    "        kernel1 = qpp.SHOTerm_Prior(log_S0 = qpoparams[0], log_Q = qpoparams[1], log_omega0 = qpoparams[2])\n",
    "        kernel2 = qpp.RealTerm_Prior(log_a = realparams[0], log_c = realparams[1])\n",
    "        kernel = kernel1\n",
    "\n",
    "        t = np.linspace(0,4000,2000)\n",
    "        I = qpp.simulate(t, model, kernel, noisy = True)\n",
    "\n",
    "\n",
    "\n",
    "        A_guess, t1_guess, t2_guess = qpp.initguess(t,I)\n",
    "        model = qpp.CTSModel_prior(log_A = np.log(A_guess), log_tau1 = np.log(t1_guess), log_tau2 = np.log(t2_guess), log_bkg = np.log(1000))\n",
    "        kernel1 = qpp.SHOTerm_Prior(log_S0 = np.log(3), log_Q = np.log(3), log_omega0 = 3) #write guesser for kernel parameters\n",
    "        kernel2 = qpp.RealTerm_Prior(log_a=0., log_c=0.) #write guesser for kernel parameters\n",
    "        kernel = kernel1\n",
    "        gp = ce.GP(kernel, mean=model, fit_mean=True)\n",
    "        gp.compute(t, np.sqrt(I))\n",
    "        initparams = gp.get_parameter_vector()\n",
    "        \n",
    "        gp2 = ce.GP(kernel2, mean=model, fit_mean=True)\n",
    "        gp2.compute(t, np.sqrt(I))\n",
    "        initparams2 = gp.get_parameter_vector()\n",
    "\n",
    "        loglike = qpp.make_loglike(I, gp)\n",
    "        loglike2 = qpp.make_loglike(I, gp2)\n",
    "\n",
    "        soln = qpp.optimize_gp(gp, I)\n",
    "        gp.set_parameter_vector(soln.x)\n",
    "        figopt = qpp.plot_gp(t, I, np.sqrt(I), gp, model, predict=True, label = \"Optimized fit\", flat=True)\n",
    "\n",
    "        soln2 = qpp.optimize_gp(gp2, I)\n",
    "        gp2.set_parameter_vector(soln2.x)\n",
    "        figopt2 = qpp.plot_gp(t, I, np.sqrt(I), gp2, model, predict=True, label = \"Optimized fit\", flat=True)\n",
    "        \n",
    "        sampler =  dynesty.DynamicNestedSampler(loglike, prior_transform, ndim, bound=\"multi\", sample=\"rwalk\", nlive=1000)\n",
    "        sampler2 =  dynesty.DynamicNestedSampler(loglike2, prior_transform2, ndim2, bound=\"multi\", sample=\"rwalk\", nlive=1000)\n",
    "\n",
    "        print \"Sampling2 ...\"\n",
    "        sampler2.run_nested()\n",
    "        res2 = sampler2.results\n",
    "        bayesfac2 = res2.logz[-1:]\n",
    "        samples2, weights2 = res2.samples, np.exp(res2.logwt-res2.logz[-1])\n",
    "        chain2 = dyfunc.resample_equal(samples2, weights2)\n",
    "        \n",
    "        print \"Sampling1 ...\"\n",
    "        sampler.run_nested()\n",
    "        res = sampler.results\n",
    "        bayesfac = res.logz[-1:]\n",
    "        samples, weights = res.samples, np.exp(res.logwt-res.logz[-1])\n",
    "        chain = dyfunc.resample_equal(samples, weights)\n",
    "        \n",
    "        \n",
    "        \n",
    "        print \"Ohheck\"\n",
    "        #figsam = qpp.plot_chain(chain, labels = gp.get_parameter_names(), burstid = qpolabel, flat=True)\n",
    "\n",
    "        try:\n",
    "            figoptsam = qpp.plot_gp(t, I, np.sqrt(I), gp, model, chain=chain, burstid = qpolabel, predict=True, flat=True)\n",
    "        except LinAlgError:\n",
    "            figoptsam = qpp.plot_gp(t, I, np.sqrt(I), gp, model, chain=chain, burstid = qpolabel, predict=True, flat=True)\n",
    "\n",
    "        try:\n",
    "            figoptsam2 = qpp.plot_gp(t, I, np.sqrt(I), gp2, model, chain=chain2, burstid = qpolabel, predict=True, flat=True)\n",
    "        except LinAlgError:\n",
    "            figoptsam2 = qpp.plot_gp(t, I, np.sqrt(I), gp2, model, chain=chain2, burstid = qpolabel, predict=True, flat=True)\n",
    "   \n",
    "            \n",
    "            \n",
    "        figcorner, maxparams = qpp.plot_corner(chain, labels = gp.get_parameter_names(), truevals = trueparams, burstid = qpolabel, flat=True)\n",
    "        figcorner2, maxparams2 = qpp.plot_corner(chain2, labels = gp2.get_parameter_names(), burstid = qpolabel, flat=True)\n",
    "        bayesresult = bayesfac-bayesfac2\n",
    "\n",
    "        header = \"Rednoise Kernel Params: \\t\"+str(realparams) + \"\\nQPO Params: \\t\" + str(qpoparams) + \"\\nEnvelope Params \\t\" + str(modelparams) + \"\\nTrue Parameter Vector: \\t\" + str(trueparams) + \"\\nMaxParams: \\t\" + str(maxparams) + \"\\nBayes Factor: \\t\" + str(bayesresult)\n",
    "        fname = loc + qpolabel+\"z/\"\n",
    "\n",
    "        if not os.path.exists(fname):\n",
    "            os.makedirs(fname)\n",
    "            \n",
    "            qpp.store_flare(fname+\"data\", header, t, I, soln.x, chain)\n",
    "            figoptsam.savefig(fname+\"lc_plot.png\")\n",
    "            figcorner.savefig(fname+\"chain_corner.png\")\n",
    "            \n",
    "            qpp.store_flare(fname+\"data2\", header, t, I, soln2.x, chain2)\n",
    "            figoptsam2.savefig(fname+\"lc_plot2.png\")\n",
    "            figcorner2.savefig(fname+\"chain_corner2.png\")\n",
    "            \n",
    "            \n",
    "            textheader = open(fname+\"header.txt\",'w')\n",
    "            textheader.write(header)\n",
    "            textheader.close()\n",
    "        else:\n",
    "            print \"directory exists\""
   ]
  },
  {
   "cell_type": "code",
   "execution_count": null,
   "metadata": {},
   "outputs": [],
   "source": [
    "import numpy as np\n",
    "import matplotlib.pyplot as plt\n",
    "import QPP_Funcs as qpp\n",
    "import celerite as ce\n",
    "\n",
    "import glob, ast\n",
    "files =  glob.glob(datadir+\"*\")\n",
    "dim = int(np.sqrt(len(files)))\n",
    "qpoparam_array = []\n",
    "oparam_array = []\n",
    "chain_array = []\n",
    "I_array = []\n",
    "SHO_prior_bounds  = [(np.log(1), np.log(1e7)),(np.log(2), np.log(20)), (2, 7)]\n",
    "\n",
    "\n",
    "print(\"Sorting Data...\")\n",
    "\n",
    "for i in range(len(files)):\n",
    "    loc = files[i]+'/data'\n",
    "    head, t, I, oparams, chain = qpp.load_flare(loc)\n",
    "    p1 = head.partition('QPO Params: \\t')\n",
    "    p2 = p1[2].partition('\\n')\n",
    "    qpoparams = ast.literal_eval(p2[0])\n",
    "    chain = np.array(chain)    \n",
    "    oparam_array.append(oparams)\n",
    "    qpoparam_array.append(qpoparams)\n",
    "    chain_array.append(chain)\n",
    "    I_array.append(I)\n",
    "\n",
    "t = np.linspace(0,4000,2000)\n",
    "oparam_array = np.array(oparam_array)\n",
    "qpoparam_array = np.array(qpoparam_array)\n",
    "chain_array = np.array(chain_array)\n",
    "I_array = np.array(I_array)\n",
    "    \n",
    "oparams_grid = [[None for _ in range(dim)] for _ in range(dim)]\n",
    "qpoparams_grid = [[None for _ in range(dim)] for _ in range(dim)]\n",
    "chain_grid = [[None for _ in range(dim)] for _ in range(dim)]\n",
    "I_grid = [[None for _ in range(dim)] for _ in range(dim)]\n",
    "    \n",
    "sort_array = np.argsort(qpoparam_array, axis=0)\n",
    "for i in range(len(sort_array)):\n",
    "    oparams_grid[i/dim][i%dim] = oparam_array[sort_array[i][0]]\n",
    "    qpoparams_grid[i/dim][i%dim] = qpoparam_array[sort_array[i][0]]\n",
    "    chain_grid[i/dim][i%dim] = chain_array[sort_array[i][0]]\n",
    "    I_grid[i/dim][i%dim] = I_array[sort_array[i][0]]\n",
    "\n",
    "\n",
    "qpoparams = [1, 1, 3]\n",
    "realparams = [-.13, -1.4] \n",
    "modelparams = [11.33844804, 6.92311406, 6.85207764, np.log(1000)]\n",
    "model = qpp.CTSModel_prior(log_A = modelparams[0], log_tau1 = modelparams[1], log_tau2 = modelparams[2], log_bkg = modelparams[3])\n",
    "kernel1 = qpp.SHOTerm_Prior(log_S0 = qpoparams[0], log_Q = qpoparams[1], log_omega0 = qpoparams[2])\n",
    "#kernel2 = qpp.RealTerm_Prior(log_a = realparams[0], log_c = realparams[1])\n",
    "kernel = kernel1\n",
    "gp = ce.GP(kernel, mean=model, fit_mean=True)\n",
    "print gp.get_parameter_names()"
   ]
  },
  {
   "cell_type": "code",
   "execution_count": null,
   "metadata": {
    "scrolled": false
   },
   "outputs": [],
   "source": [
    "gridfig, gridax = plt.subplots(nrows = dim, ncols = dim, sharex=True, sharey=True, squeeze=True, figsize=(20,20))\n",
    "curvefig, curveax = plt.subplots(nrows = dim, ncols = dim, figsize=(20,20))\n",
    "postfig, postax = plt.subplots(nrows = dim, ncols = dim, figsize=(20,20))\n",
    "\n",
    "gridfig.text(0.5, 0.04, 'Power Factor $S_0$', ha='center')\n",
    "gridfig.text(0.04, 0.5, 'Quality Factor $Q$', va='center', rotation='vertical')\n",
    "\n",
    "print(\"Plotting results...\")\n",
    "sort_array = np.argsort(qpoparams_grid, axis=1)\n",
    "for i in range(dim):\n",
    "    for j in range(dim):\n",
    "        print(\"Plot \" + str((dim*i)+j+1))\n",
    "        index = sort_array[i][j][1]\n",
    "        chain = chain_grid[i][index]\n",
    "        I = I_grid[i][index]\n",
    "        oparams = oparams_grid[i][index]\n",
    "        params = qpoparams_grid[i][index]\n",
    "        s0_chain = chain[:,0]\n",
    "        Q_chain = chain[:,1]\n",
    "        bounds = [[SHO_prior_bounds[0][0],SHO_prior_bounds[0][1]],[SHO_prior_bounds[1][0], SHO_prior_bounds[1][1]]]\n",
    "        gridax[j,i].hist2d(s0_chain, Q_chain,bins=50, range = bounds, normed=True)\n",
    "        gridax[j,i].plot(params[0], params[1], 'r.')\n",
    "        name = \"$S_0$:{0:.2f}\".format(params[0])+\", Q: {0:.2f}\".format(params[1])\n",
    "        gridax[j,i].set_title(name)\n",
    "        gp.compute(t, np.sqrt(I))\n",
    "\n",
    "        for k in range(8):\n",
    "            oparams = chain[np.random.randint(len(chain)-1)]\n",
    "            gp.set_parameter_vector(oparams)\n",
    "            model.set_parameter_vector(oparams[-len(gp.mean.get_parameter_vector()):])\n",
    "            sample = gp.sample_conditional(I,t)\n",
    "            postax[j,i].plot(t,sample, 'g', alpha=.2)\n",
    "\n",
    "        gp.set_parameter_vector(oparams)\n",
    "        model.set_parameter_vector(oparams[-len(gp.mean.get_parameter_vector()):])\n",
    "        #curveax[j,i].plot(t, I, 'k.', alpha = 0.05)\n",
    "        curveax[j,i].plot(t, gp.mean.get_value(t), 'r--')\n",
    "        curveax[j,i].set_title(name)\n",
    "        \n",
    "plt.show()\n",
    "    "
   ]
  },
  {
   "cell_type": "code",
   "execution_count": null,
   "metadata": {},
   "outputs": [],
   "source": [
    "#%matplotlib notebook\n",
    "plt.get_backend()"
   ]
  },
  {
   "cell_type": "code",
   "execution_count": null,
   "metadata": {},
   "outputs": [],
   "source": [
    "%load_ext autoreload\n",
    "%autoreload 2\n",
    "import QPP_Funcs as qpp"
   ]
  },
  {
   "cell_type": "code",
   "execution_count": null,
   "metadata": {},
   "outputs": [],
   "source": [
    "gp.mean.get_parameter_vector()"
   ]
  }
 ],
 "metadata": {
  "kernelspec": {
   "display_name": "Python 2",
   "language": "python",
   "name": "python2"
  },
  "language_info": {
   "codemirror_mode": {
    "name": "ipython",
    "version": 2
   },
   "file_extension": ".py",
   "mimetype": "text/x-python",
   "name": "python",
   "nbconvert_exporter": "python",
   "pygments_lexer": "ipython2",
   "version": "2.7.15rc1"
  }
 },
 "nbformat": 4,
 "nbformat_minor": 2
}
