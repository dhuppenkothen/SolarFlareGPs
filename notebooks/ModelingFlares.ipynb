{
 "cells": [
  {
   "cell_type": "code",
   "execution_count": 5,
   "metadata": {},
   "outputs": [
    {
     "data": {
      "image/png": "[encoded data removed]",
      "text/plain": [
       "<matplotlib.figure.Figure at 0x1081b2d10>"
      ]
     },
     "metadata": {},
     "output_type": "display_data"
    }
   ],
   "source": [
    "import numpy as np\n",
    "import matplotlib.pyplot as plt\n",
    "import celerite as ce\n",
    "import QPP_Funcs as QPP\n",
    "from scipy.optimize import minimize\n",
    "\n",
    "params0 = [3.2e+06, 3.9e+03, 1e+02]\n",
    "x0 = np.linspace(0,2000,100)\n",
    "y0 = QPP.CTS(x0, params0)\n",
    "yerr = np.sqrt(y0)\n",
    "\n",
    "class CTSModel_prior(QPP.CTSModel):\n",
    "    def log_prior(self):\n",
    "        Aprob = 0.\n",
    "        tau1prob = 0.\n",
    "        tau2prob = 0.\n",
    "        if(self.A>0 and self.A<3.5e7):\n",
    "            Aprob = 1./(3.5e7)\n",
    "        #manually entering length of pulse, needs to be fixed\n",
    "        T=2000\n",
    "        if(self.tau1>0 and self.tau1<T):\n",
    "            tau1prob = 1./T\n",
    "        if(self.tau2>0 and self.tau2<T):\n",
    "            tau2prob = 1./T\n",
    "        return np.log(Aprob * tau1prob * tau2prob)\n",
    "\n",
    "CTS_Model = CTSModel_prior(A=3e6, tau1 = 1e3, tau2= 1e3)\n",
    "\n",
    "kernel = ce.terms.RealTerm(log_a = np.log(1e3), log_c = np.log(1e3))\n",
    "gp = ce.GP(kernel, mean=CTS_Model, fit_mean=True)\n",
    "\n",
    "gp.compute(x0, yerr)\n",
    "x,y = QPP.simulate(100, params0, QPP.CTS, kernel = gp.get_matrix())\n",
    "x,y= zip(*sorted(zip(x,y)))\n",
    "gp.compute(x, yerr)\n",
    "\n",
    "plt.plot(x,y, 'k.')\n",
    "plt.plot(x0, y0, 'b-')\n",
    "plt.show()"
   ]
  },
  {
   "cell_type": "code",
   "execution_count": null,
   "metadata": {
    "collapsed": true
   },
   "outputs": [],
   "source": []
  },
  {
   "cell_type": "code",
   "execution_count": 6,
   "metadata": {},
   "outputs": [
    {
     "name": "stdout",
     "output_type": "stream",
     "text": [
      "Optimizing GP...\n",
      "Running MCMC...\n"
     ]
    },
    {
     "name": "stderr",
     "output_type": "stream",
     "text": [
      "/usr/local/lib/python2.7/site-packages/ipykernel_launcher.py:30: RuntimeWarning: divide by zero encountered in double_scalars\n",
      "/usr/local/lib/python2.7/site-packages/ipykernel_launcher.py:25: RuntimeWarning: divide by zero encountered in log\n",
      "QPP_Funcs.py:141: RuntimeWarning: invalid value encountered in sqrt\n",
      "  lam = np.exp(np.sqrt(2*(self.tau1/self.tau2)))\n",
      "/usr/local/lib/python2.7/site-packages/ipykernel_launcher.py:20: RuntimeWarning: invalid value encountered in sqrt\n"
     ]
    },
    {
     "ename": "ValueError",
     "evalue": "max must be larger than min in range parameter.",
     "output_type": "error",
     "traceback": [
      "\u001b[0;31m---------------------------------------------------------------------------\u001b[0m",
      "\u001b[0;31mValueError\u001b[0m                                Traceback (most recent call last)",
      "\u001b[0;32m<ipython-input-6-b9e64fc3ef5f>\u001b[0m in \u001b[0;36m<module>\u001b[0;34m()\u001b[0m\n\u001b[1;32m     55\u001b[0m \u001b[0;34m\u001b[0m\u001b[0m\n\u001b[1;32m     56\u001b[0m \u001b[0mplt\u001b[0m\u001b[0;34m.\u001b[0m\u001b[0mfigure\u001b[0m\u001b[0;34m(\u001b[0m\u001b[0;34m)\u001b[0m\u001b[0;34m\u001b[0m\u001b[0m\n\u001b[0;32m---> 57\u001b[0;31m \u001b[0mAhist\u001b[0m\u001b[0;34m,\u001b[0m \u001b[0mAbins\u001b[0m\u001b[0;34m,\u001b[0m \u001b[0mApatches\u001b[0m \u001b[0;34m=\u001b[0m \u001b[0mplt\u001b[0m\u001b[0;34m.\u001b[0m\u001b[0mhist\u001b[0m\u001b[0;34m(\u001b[0m\u001b[0mparamset\u001b[0m\u001b[0;34m[\u001b[0m\u001b[0;34m:\u001b[0m\u001b[0;34m,\u001b[0m\u001b[0;36m0\u001b[0m\u001b[0;34m]\u001b[0m\u001b[0;34m,\u001b[0m \u001b[0mnormed\u001b[0m\u001b[0;34m=\u001b[0m\u001b[0;36m1\u001b[0m\u001b[0;34m,\u001b[0m \u001b[0mbins\u001b[0m\u001b[0;34m=\u001b[0m\u001b[0;36m100\u001b[0m\u001b[0;34m)\u001b[0m\u001b[0;34m\u001b[0m\u001b[0m\n\u001b[0m\u001b[1;32m     58\u001b[0m \u001b[0mAin\u001b[0m \u001b[0;34m=\u001b[0m \u001b[0mnp\u001b[0m\u001b[0;34m.\u001b[0m\u001b[0margmax\u001b[0m\u001b[0;34m(\u001b[0m\u001b[0mAhist\u001b[0m\u001b[0;34m)\u001b[0m\u001b[0;34m\u001b[0m\u001b[0m\n\u001b[1;32m     59\u001b[0m \u001b[0mAMax\u001b[0m \u001b[0;34m=\u001b[0m \u001b[0mnp\u001b[0m\u001b[0;34m.\u001b[0m\u001b[0maverage\u001b[0m\u001b[0;34m(\u001b[0m\u001b[0;34m[\u001b[0m\u001b[0mAbins\u001b[0m\u001b[0;34m[\u001b[0m\u001b[0mAin\u001b[0m\u001b[0;34m]\u001b[0m\u001b[0;34m,\u001b[0m \u001b[0mAbins\u001b[0m\u001b[0;34m[\u001b[0m\u001b[0mAin\u001b[0m\u001b[0;34m+\u001b[0m\u001b[0;36m1\u001b[0m\u001b[0;34m]\u001b[0m\u001b[0;34m]\u001b[0m\u001b[0;34m)\u001b[0m\u001b[0;34m\u001b[0m\u001b[0m\n",
      "\u001b[0;32m/usr/local/lib/python2.7/site-packages/matplotlib/pyplot.pyc\u001b[0m in \u001b[0;36mhist\u001b[0;34m(x, bins, range, normed, weights, cumulative, bottom, histtype, align, orientation, rwidth, log, color, label, stacked, hold, data, **kwargs)\u001b[0m\n\u001b[1;32m   3079\u001b[0m                       \u001b[0mhisttype\u001b[0m\u001b[0;34m=\u001b[0m\u001b[0mhisttype\u001b[0m\u001b[0;34m,\u001b[0m \u001b[0malign\u001b[0m\u001b[0;34m=\u001b[0m\u001b[0malign\u001b[0m\u001b[0;34m,\u001b[0m \u001b[0morientation\u001b[0m\u001b[0;34m=\u001b[0m\u001b[0morientation\u001b[0m\u001b[0;34m,\u001b[0m\u001b[0;34m\u001b[0m\u001b[0m\n\u001b[1;32m   3080\u001b[0m                       \u001b[0mrwidth\u001b[0m\u001b[0;34m=\u001b[0m\u001b[0mrwidth\u001b[0m\u001b[0;34m,\u001b[0m \u001b[0mlog\u001b[0m\u001b[0;34m=\u001b[0m\u001b[0mlog\u001b[0m\u001b[0;34m,\u001b[0m \u001b[0mcolor\u001b[0m\u001b[0;34m=\u001b[0m\u001b[0mcolor\u001b[0m\u001b[0;34m,\u001b[0m \u001b[0mlabel\u001b[0m\u001b[0;34m=\u001b[0m\u001b[0mlabel\u001b[0m\u001b[0;34m,\u001b[0m\u001b[0;34m\u001b[0m\u001b[0m\n\u001b[0;32m-> 3081\u001b[0;31m                       stacked=stacked, data=data, **kwargs)\n\u001b[0m\u001b[1;32m   3082\u001b[0m     \u001b[0;32mfinally\u001b[0m\u001b[0;34m:\u001b[0m\u001b[0;34m\u001b[0m\u001b[0m\n\u001b[1;32m   3083\u001b[0m         \u001b[0max\u001b[0m\u001b[0;34m.\u001b[0m\u001b[0m_hold\u001b[0m \u001b[0;34m=\u001b[0m \u001b[0mwashold\u001b[0m\u001b[0;34m\u001b[0m\u001b[0m\n",
      "\u001b[0;32m/usr/local/lib/python2.7/site-packages/matplotlib/__init__.pyc\u001b[0m in \u001b[0;36minner\u001b[0;34m(ax, *args, **kwargs)\u001b[0m\n\u001b[1;32m   1896\u001b[0m                     warnings.warn(msg % (label_namer, func.__name__),\n\u001b[1;32m   1897\u001b[0m                                   RuntimeWarning, stacklevel=2)\n\u001b[0;32m-> 1898\u001b[0;31m             \u001b[0;32mreturn\u001b[0m \u001b[0mfunc\u001b[0m\u001b[0;34m(\u001b[0m\u001b[0max\u001b[0m\u001b[0;34m,\u001b[0m \u001b[0;34m*\u001b[0m\u001b[0margs\u001b[0m\u001b[0;34m,\u001b[0m \u001b[0;34m**\u001b[0m\u001b[0mkwargs\u001b[0m\u001b[0;34m)\u001b[0m\u001b[0;34m\u001b[0m\u001b[0m\n\u001b[0m\u001b[1;32m   1899\u001b[0m         \u001b[0mpre_doc\u001b[0m \u001b[0;34m=\u001b[0m \u001b[0minner\u001b[0m\u001b[0;34m.\u001b[0m\u001b[0m__doc__\u001b[0m\u001b[0;34m\u001b[0m\u001b[0m\n\u001b[1;32m   1900\u001b[0m         \u001b[0;32mif\u001b[0m \u001b[0mpre_doc\u001b[0m \u001b[0;32mis\u001b[0m \u001b[0mNone\u001b[0m\u001b[0;34m:\u001b[0m\u001b[0;34m\u001b[0m\u001b[0m\n",
      "\u001b[0;32m/usr/local/lib/python2.7/site-packages/matplotlib/axes/_axes.pyc\u001b[0m in \u001b[0;36mhist\u001b[0;34m(***failed resolving arguments***)\u001b[0m\n\u001b[1;32m   6193\u001b[0m             \u001b[0;31m# this will automatically overwrite bins,\u001b[0m\u001b[0;34m\u001b[0m\u001b[0;34m\u001b[0m\u001b[0m\n\u001b[1;32m   6194\u001b[0m             \u001b[0;31m# so that each histogram uses the same bins\u001b[0m\u001b[0;34m\u001b[0m\u001b[0;34m\u001b[0m\u001b[0m\n\u001b[0;32m-> 6195\u001b[0;31m             \u001b[0mm\u001b[0m\u001b[0;34m,\u001b[0m \u001b[0mbins\u001b[0m \u001b[0;34m=\u001b[0m \u001b[0mnp\u001b[0m\u001b[0;34m.\u001b[0m\u001b[0mhistogram\u001b[0m\u001b[0;34m(\u001b[0m\u001b[0mx\u001b[0m\u001b[0;34m[\u001b[0m\u001b[0mi\u001b[0m\u001b[0;34m]\u001b[0m\u001b[0;34m,\u001b[0m \u001b[0mbins\u001b[0m\u001b[0;34m,\u001b[0m \u001b[0mweights\u001b[0m\u001b[0;34m=\u001b[0m\u001b[0mw\u001b[0m\u001b[0;34m[\u001b[0m\u001b[0mi\u001b[0m\u001b[0;34m]\u001b[0m\u001b[0;34m,\u001b[0m \u001b[0;34m**\u001b[0m\u001b[0mhist_kwargs\u001b[0m\u001b[0;34m)\u001b[0m\u001b[0;34m\u001b[0m\u001b[0m\n\u001b[0m\u001b[1;32m   6196\u001b[0m             \u001b[0mm\u001b[0m \u001b[0;34m=\u001b[0m \u001b[0mm\u001b[0m\u001b[0;34m.\u001b[0m\u001b[0mastype\u001b[0m\u001b[0;34m(\u001b[0m\u001b[0mfloat\u001b[0m\u001b[0;34m)\u001b[0m  \u001b[0;31m# causes problems later if it's an int\u001b[0m\u001b[0;34m\u001b[0m\u001b[0m\n\u001b[1;32m   6197\u001b[0m             \u001b[0;32mif\u001b[0m \u001b[0mmlast\u001b[0m \u001b[0;32mis\u001b[0m \u001b[0mNone\u001b[0m\u001b[0;34m:\u001b[0m\u001b[0;34m\u001b[0m\u001b[0m\n",
      "\u001b[0;32m/usr/local/lib/python2.7/site-packages/numpy/lib/function_base.pyc\u001b[0m in \u001b[0;36mhistogram\u001b[0;34m(a, bins, range, normed, weights, density)\u001b[0m\n\u001b[1;32m    665\u001b[0m     \u001b[0;32mif\u001b[0m \u001b[0mmn\u001b[0m \u001b[0;34m>\u001b[0m \u001b[0mmx\u001b[0m\u001b[0;34m:\u001b[0m\u001b[0;34m\u001b[0m\u001b[0m\n\u001b[1;32m    666\u001b[0m         raise ValueError(\n\u001b[0;32m--> 667\u001b[0;31m             'max must be larger than min in range parameter.')\n\u001b[0m\u001b[1;32m    668\u001b[0m     \u001b[0;32mif\u001b[0m \u001b[0;32mnot\u001b[0m \u001b[0mnp\u001b[0m\u001b[0;34m.\u001b[0m\u001b[0mall\u001b[0m\u001b[0;34m(\u001b[0m\u001b[0mnp\u001b[0m\u001b[0;34m.\u001b[0m\u001b[0misfinite\u001b[0m\u001b[0;34m(\u001b[0m\u001b[0;34m[\u001b[0m\u001b[0mmn\u001b[0m\u001b[0;34m,\u001b[0m \u001b[0mmx\u001b[0m\u001b[0;34m]\u001b[0m\u001b[0;34m)\u001b[0m\u001b[0;34m)\u001b[0m\u001b[0;34m:\u001b[0m\u001b[0;34m\u001b[0m\u001b[0m\n\u001b[1;32m    669\u001b[0m         raise ValueError(\n",
      "\u001b[0;31mValueError\u001b[0m: max must be larger than min in range parameter."
     ]
    }
   ],
   "source": [
    "#defining cost function:\n",
    "def neg_log_like(params, y, gp):\n",
    "    gp.set_parameter_vector(params)\n",
    "    return -gp.log_likelihood(y)\n",
    "\n",
    "def grad_neg_log_like(params, y, gp):   \n",
    "    gp.set_parameter_vector(params)\n",
    "    return -gp.grad_log_likelihood(y)[1]\n",
    "\n",
    "print \"Optimizing GP...\"\n",
    "initial_params = gp.get_parameter_vector()\n",
    "bounds = gp.get_parameter_bounds()\n",
    "#soln = minimize(neg_log_like, initial_params, jac=grad_neg_log_like, method =\"L-BFGS-B\", args = (y, gp))\n",
    "\n",
    "#yfinalgp = QPP.CTS(x0, [soln.x[2], soln.x[3], soln.x[4]])\n",
    "\n",
    "#reset and test with MH MCMC\n",
    "gp.set_parameter_vector(initial_params)\n",
    "def samplepdf(params):\n",
    "    return np.random.normal(loc=params, scale=np.sqrt(np.abs(params)))\n",
    "\n",
    "def MCMCStep(gp, params, y, q, lfunc):\n",
    "    newparams = q(params)\n",
    "    r = np.random.rand()\n",
    "    prob1 = lfunc(gp, y)\n",
    "    gp.set_parameter_vector(newparams)\n",
    "    prob2 = lfunc(gp, y)\n",
    "    if(prob2-prob2==prob2):\n",
    "        return newparams\n",
    "    if((prob2/prob1)>r):\n",
    "        return newparams\n",
    "    else:\n",
    "        gp.set_parameter_vector(params)\n",
    "        return params\n",
    "\n",
    "def post_likelihood(gp, y):\n",
    "    log_like = gp.log_likelihood(y)\n",
    "    log_prior = gp.log_prior()\n",
    "    result = log_like+log_prior\n",
    "    if(np.isfinite(result)):\n",
    "        return result\n",
    "    else:\n",
    "        return 0 \n",
    "    \n",
    "    \n",
    "N = int(1e4)\n",
    "paramset=np.empty([N,5])\n",
    "paramset[0] = initial_params+1\n",
    "print \"Running MCMC...\"\n",
    "for i in range(N-1):\n",
    "    try:\n",
    "        paramset[i+1] = MCMCStep(gp, paramset[i], y, samplepdf, post_likelihood)\n",
    "    except RuntimeError:\n",
    "        i-=1\n",
    "\n",
    "plt.figure()\n",
    "Ahist, Abins, Apatches = plt.hist(paramset[:,0], normed=1, bins=100)\n",
    "Ain = np.argmax(Ahist)\n",
    "AMax = np.average([Abins[Ain], Abins[Ain+1]])\n",
    "Ax = AMax * np.ones(100)\n",
    "Ay = np.linspace(0, max(Ahist), 100)\n",
    "plt.plot(Ax, Ay, 'r--', alpha=0.5)\n",
    "\n",
    "plt.figure()\n",
    "chist, cbins, cpatches = plt.hist(paramset[:,1], normed=1, bins=100)\n",
    "cin = np.argmax(chist)\n",
    "cMax = np.average([cbins[cin], cbins[cin+1]])\n",
    "cx = cMax * np.ones(100)\n",
    "cy = np.linspace(0, max(chist), 100)\n",
    "plt.plot(cx, cy, 'r--', alpha=0.5)\n",
    "\n",
    "plt.figure()\n",
    "ahist, abins, apatches = plt.hist(paramset[:,2], normed=1, bins=100)\n",
    "ain = np.argmax(ahist)\n",
    "aMax = np.average([abins[ain], abins[ain+1]])\n",
    "ax = aMax * np.ones(100)\n",
    "ay = np.linspace(0, max(ahist), 100)\n",
    "plt.plot(ax, ay, 'r--', alpha=0.5)\n",
    "\n",
    "plt.figure()\n",
    "t1hist, t1bins, t1patches = plt.hist(paramset[:,3], normed=1, bins=100)\n",
    "t1in = np.argmax(t1hist)\n",
    "t1Max = np.average([t1bins[t1in], t1bins[t1in+1]])\n",
    "t1x = t1Max * np.ones(100)\n",
    "t1y = np.linspace(0, max(t1hist), 100)\n",
    "plt.plot(t1x, t1y, 'r--', alpha=0.5)\n",
    "\n",
    "plt.figure()\n",
    "t2hist, t2bins, t2patches = plt.hist(paramset[:,4], normed=1, bins=100)\n",
    "t2in = np.argmax(t2hist)\n",
    "t2Max = np.average([t2bins[t2in], t2bins[t2in+1]])\n",
    "t2x = t2Max * np.ones(100)\n",
    "t2y = np.linspace(0, max(t2hist), 100)\n",
    "plt.plot(t2x, t2y, 'r--', alpha=0.5)\n",
    "\n",
    "plt.show()"
   ]
  },
  {
   "cell_type": "code",
   "execution_count": 4,
   "metadata": {},
   "outputs": [
    {
     "ename": "NameError",
     "evalue": "name 'aMax' is not defined",
     "output_type": "error",
     "traceback": [
      "\u001b[0;31m---------------------------------------------------------------------------\u001b[0m",
      "\u001b[0;31mNameError\u001b[0m                                 Traceback (most recent call last)",
      "\u001b[0;32m<ipython-input-4-1843b88bc210>\u001b[0m in \u001b[0;36m<module>\u001b[0;34m()\u001b[0m\n\u001b[0;32m----> 1\u001b[0;31m \u001b[0myfinalMCMC\u001b[0m \u001b[0;34m=\u001b[0m \u001b[0mQPP\u001b[0m\u001b[0;34m.\u001b[0m\u001b[0mCTS\u001b[0m\u001b[0;34m(\u001b[0m\u001b[0mx0\u001b[0m\u001b[0;34m,\u001b[0m \u001b[0;34m[\u001b[0m\u001b[0maMax\u001b[0m\u001b[0;34m,\u001b[0m \u001b[0mt1Max\u001b[0m\u001b[0;34m,\u001b[0m \u001b[0mt2Max\u001b[0m\u001b[0;34m]\u001b[0m\u001b[0;34m)\u001b[0m\u001b[0;34m\u001b[0m\u001b[0m\n\u001b[0m\u001b[1;32m      2\u001b[0m \u001b[0;34m\u001b[0m\u001b[0m\n\u001b[1;32m      3\u001b[0m \u001b[0;32mprint\u001b[0m \u001b[0mparams0\u001b[0m\u001b[0;34m\u001b[0m\u001b[0m\n\u001b[1;32m      4\u001b[0m \u001b[0;32mprint\u001b[0m \u001b[0msoln\u001b[0m\u001b[0;34m.\u001b[0m\u001b[0mx\u001b[0m\u001b[0;34m[\u001b[0m\u001b[0;36m2\u001b[0m\u001b[0;34m:\u001b[0m\u001b[0;34m]\u001b[0m\u001b[0;34m\u001b[0m\u001b[0m\n\u001b[1;32m      5\u001b[0m \u001b[0;32mprint\u001b[0m \u001b[0;34m[\u001b[0m\u001b[0maMax\u001b[0m\u001b[0;34m,\u001b[0m \u001b[0mt1Max\u001b[0m\u001b[0;34m,\u001b[0m \u001b[0mt2Max\u001b[0m\u001b[0;34m]\u001b[0m\u001b[0;34m\u001b[0m\u001b[0m\n",
      "\u001b[0;31mNameError\u001b[0m: name 'aMax' is not defined"
     ]
    }
   ],
   "source": [
    "yfinalMCMC = QPP.CTS(x0, [aMax, t1Max, t2Max])\n",
    "\n",
    "print params0\n",
    "print soln.x[2:]\n",
    "print [aMax, t1Max, t2Max]\n",
    "\n",
    "plt.plot(x0, y0, 'b-')\n",
    "plt.plot(x, y, 'k.')\n",
    "plt.plot(x0, yfinalgp, 'r-')\n",
    "plt.plot(x0, yfinalMCMC, 'g-')\n",
    "plt.show()"
   ]
  }
 ],
 "metadata": {
  "kernelspec": {
   "display_name": "Python 2",
   "language": "python",
   "name": "python2"
  },
  "language_info": {
   "codemirror_mode": {
    "name": "ipython",
    "version": 2
   },
   "file_extension": ".py",
   "mimetype": "text/x-python",
   "name": "python",
   "nbconvert_exporter": "python",
   "pygments_lexer": "ipython2",
   "version": "2.7.13"
  }
 },
 "nbformat": 4,
 "nbformat_minor": 2
}
