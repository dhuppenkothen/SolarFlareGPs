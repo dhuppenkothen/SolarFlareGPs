{
 "cells": [
  {
   "cell_type": "code",
   "execution_count": 22,
   "metadata": {},
   "outputs": [
    {
     "data": {
      "image/png": "[encoded data removed]",
      "text/plain": [
       "<matplotlib.figure.Figure at 0x10c996090>"
      ]
     },
     "metadata": {},
     "output_type": "display_data"
    }
   ],
   "source": [
    "import numpy as np\n",
    "import matplotlib.pyplot as plt\n",
    "import celerite as cp\n",
    "\n",
    "def expf(t,a,b):\n",
    "    return np.exp(a*(t-b))\n",
    "\n",
    "def linef(t, x1, y1, x2, y2):\n",
    "    m = (y2-y1)/(x2-x1)\n",
    "    b = y2 - (m*x2)\n",
    "    return ((m*t)+b)\n",
    "\n",
    "\n",
    "\n",
    "def PW_Model(t, params):\n",
    "        result = np.empty(len(t))\n",
    "        for i in range(len(t)): #had to tweak this to accept t-arrays, may affect speed...\n",
    "            if(t[i]<params[0]):\n",
    "                result[i] = expf(t[i], params[2], params[3])\n",
    "            elif(params[0]<=t[i] and t[i]<=params[1]):\n",
    "                result[i] = linef(t[i], params[0], expf(params[0], params[2], params[3]), params[1], expf(params[1], params[4], params[5]))\n",
    "            elif(params[1]<t[i]):\n",
    "                result[i] = expf(t[i], params[4], params[5])\n",
    "        return result\n",
    "    \n",
    "parameter_names = (\"xc\", \"al\", \"bl\", \"ar\", \"br\")\n",
    "    \n",
    "def DExp_Model(t):\n",
    "    result = np.empty(len(t))\n",
    "    for i in range(len(t)): #had to tweak this to accept t-arrays, may affect speed...\n",
    "        if(t[i]<params[0]):\n",
    "            result[i] = expf(t[i], params[1], params[2])\n",
    "        elif(params[0]<t[i]):\n",
    "            result[i] = expf(t[i], params[3], params[4])\n",
    "    return result\n",
    "\n",
    "    \n",
    "def simulate(N, params, model, yerrsize = 25000, bounds=(0,2000)):\n",
    "    x = (np.random.rand(N) * (bounds[1]-bounds[0])) + bounds[0]\n",
    "    y = model(x, params)\n",
    "    yerr = np.random.rand(N) * yerrsize\n",
    "    y += yerr\n",
    "    return x, y\n",
    "\n",
    "params0 = [4.08344998e+02, 7.15585975e+02, 4.26056582e-02, 1.61781302e+02, -3.64834836e-03, 3.94850711e+03]\n",
    "x,y = simulate(100, params0, PW_Model)\n",
    "\n",
    "plt.plot(x,y, 'k.')\n",
    "plt.show()"
   ]
  }
 ],
 "metadata": {
  "kernelspec": {
   "display_name": "Python 2",
   "language": "python",
   "name": "python2"
  },
  "language_info": {
   "codemirror_mode": {
    "name": "ipython",
    "version": 2
   },
   "file_extension": ".py",
   "mimetype": "text/x-python",
   "name": "python",
   "nbconvert_exporter": "python",
   "pygments_lexer": "ipython2",
   "version": "2.7.13"
  }
 },
 "nbformat": 4,
 "nbformat_minor": 2
}
