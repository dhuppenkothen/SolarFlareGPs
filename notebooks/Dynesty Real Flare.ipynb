{
 "cells": [
  {
   "cell_type": "code",
   "execution_count": 3,
   "metadata": {},
   "outputs": [
    {
     "name": "stdout",
     "output_type": "stream",
     "text": [
      "Exists at: Data/Real/120704187/\n"
     ]
    }
   ],
   "source": [
    "import numpy as np\n",
    "import QPP_Funcs as qpp\n",
    "\n",
    "data1 = \"/Users/chris/Documents/Research:Studies/QPP/SolarFlareGPs/data/120704187_ctime_lc.txt\"\n",
    "t, I = np.loadtxt(data1, unpack=True)\n",
    "Ierr = np.sqrt(I)\n",
    "loc = \"Data/Real/\"\n",
    "label = \"120704187\"\n",
    "qpp.analyze_flare(loc, t, I, qpolabel=label)\n"
   ]
  },
  {
   "cell_type": "code",
   "execution_count": 8,
   "metadata": {},
   "outputs": [
    {
     "name": "stdout",
     "output_type": "stream",
     "text": [
      "Warning: Cannot change to a different GUI toolkit: notebook. Using qt instead.\n",
      "Params for QPO: [12.53829712  2.99563483  2.53202917]\n",
      "Params for RedNoise: [19.90346202 -7.91768034]\n"
     ]
    },
    {
     "name": "stderr",
     "output_type": "stream",
     "text": [
      "/Users/chris/anaconda3/lib/python3.6/site-packages/celerite/celerite.py:505: RuntimeWarning: covariance is not positive-semidefinite.\n",
      "  return np.random.multivariate_normal(mu, cov, size=size)\n"
     ]
    }
   ],
   "source": [
    "%matplotlib notebook\n",
    "import celerite as ce\n",
    "import matplotlib.pyplot as plt\n",
    "from numpy.random import multivariate_normal\n",
    "fname = loc + label\n",
    "head1, t, I, optparams1, chain1, res1 = qpp.load_flare(fname+\"/data1\")\n",
    "p1 = np.array(chain1)[-1:][0]\n",
    "\n",
    "head2, t, I, optparams2, chain2, res2 = qpp.load_flare(fname+\"/data2\")\n",
    "p2 = np.array(chain2)[-1:][0]\n",
    "\n",
    "print ('Params for QPO: ' + str(p1[:3]))\n",
    "print ('Params for RedNoise: ' + str(p2[:2]))\n",
    "\n",
    "\n",
    "k1 = qpp.SHOTerm_Prior(log_S0 = p1[0], log_Q = p1[1], log_omega0 = p1[2])\n",
    "m1 = qpp.CTSModel_prior(log_A = p1[3], log_tau1 = p1[4], log_tau2 = p1[5], log_bkg = p1[6])\n",
    "gp1 = ce.GP(k1, mean = m1, fit_mean = True)\n",
    "\n",
    "k2 = qpp.RealTerm_Prior(log_a = p2[0], log_c = p2[1])\n",
    "m2 = qpp.CTSModel_prior(log_A = p2[2], log_tau1 = p2[3], log_tau2 = p2[4], log_bkg = p2[5])\n",
    "gp2 = ce.GP(k2, mean = m2, fit_mean = True)\n",
    "\n",
    "gp1.compute(t, yerr = np.sqrt(I))\n",
    "gp2.compute(t, yerr = np.sqrt(I))\n",
    "\n",
    "cov1 = gp1.get_matrix()\n",
    "cov2 = gp2.get_matrix()\n",
    "\n",
    "I1, var1 = gp1.predict(I, t, return_var=True)\n",
    "I2, var2 = gp2.predict(I, t, return_var=True)\n",
    "\n",
    "\n",
    "plt.figure(figsize=(15,13))\n",
    "plt.errorbar(t, I, yerr = np.sqrt(I), fmt='k.', label = 'real')\n",
    "plt.plot(t, I1, 'm--', alpha = 1, label = 'qpo-only sample')\n",
    "plt.plot(t, I2, 'c--', alpha = 1, label = 'rednoise sample')\n",
    "\n",
    "plt.fill_between(t, I1+np.sqrt(var1), I1-np.sqrt(var1), color='m', alpha=0.3, edgecolor=\"none\")\n",
    "plt.fill_between(t, I2+np.sqrt(var2), I2-np.sqrt(var2), color='c', alpha=0.3, edgecolor=\"none\")\n",
    "\n",
    "\n",
    "for i in range(5):\n",
    "    I1 = gp1.sample_conditional(I)\n",
    "    I2 = gp2.sample_conditional(I)\n",
    "    plt.plot(t, I1, 'm--', alpha = .5)\n",
    "    plt.plot(t, I2, 'c--', alpha = .5)\n",
    "\n",
    "plt.legend()\n",
    "plt.show()\n",
    "\n",
    "\n",
    "\n"
   ]
  },
  {
   "cell_type": "code",
   "execution_count": null,
   "metadata": {},
   "outputs": [],
   "source": []
  }
 ],
 "metadata": {
  "kernelspec": {
   "display_name": "Python 2",
   "language": "python",
   "name": "python2"
  },
  "language_info": {
   "codemirror_mode": {
    "name": "ipython",
    "version": 3
   },
   "file_extension": ".py",
   "mimetype": "text/x-python",
   "name": "python",
   "nbconvert_exporter": "python",
   "pygments_lexer": "ipython3",
   "version": "3.6.5"
  }
 },
 "nbformat": 4,
 "nbformat_minor": 2
}
