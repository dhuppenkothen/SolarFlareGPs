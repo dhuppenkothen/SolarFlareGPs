{
 "cells": [
  {
   "cell_type": "code",
   "execution_count": 3,
   "metadata": {},
   "outputs": [
    {
     "name": "stdout",
     "output_type": "stream",
     "text": [
      "Lightcurve 1, burstid: 1520110128\n",
      "Initializing...\n",
      "Optimizing...\n",
      "Initial log-likelihood: -27078.3403895\n",
      "Final log-likelihood: nan\n",
      "Optimized log-parameters: [  0.           0.          20.          -1.          -1.          11.99069881\n",
      "   7.21864007   7.91178725]\n",
      "Burning in...\n",
      "Sampling...\n",
      "Done!\n",
      "Plotting...\n"
     ]
    },
    {
     "name": "stderr",
     "output_type": "stream",
     "text": [
      "WARNING:root:Too few points to create valid contours\n",
      "WARNING:root:Too few points to create valid contours\n",
      "WARNING:root:Too few points to create valid contours\n",
      "WARNING:root:Too few points to create valid contours\n"
     ]
    },
    {
     "name": "stdout",
     "output_type": "stream",
     "text": [
      "[ 18.80001714 -19.69935982  21.50131496   0.41230411  -3.98578729\n",
      "  15.24645802   8.56109333   4.96689966]\n"
     ]
    }
   ],
   "source": [
    "import numpy as np\n",
    "import scipy as sp\n",
    "import matplotlib.pyplot as plt\n",
    "import celerite as ce\n",
    "import emcee as mc\n",
    "import QPP_Funcs as qpp\n",
    "import corner\n",
    "from celerite.modeling import Model\n",
    "from scipy.optimize import minimize, curve_fit\n",
    "\n",
    "%matplotlib qt\n",
    "\n",
    "i=0\n",
    "plots = []\n",
    "corners = []\n",
    "datadir = \"/Users/chris/Documents/QPP/SolarFlareGPs/data/daniela_goes_data/\"\n",
    "\n",
    "#for burstid in range(1520110128,1520170715):\n",
    "while (i<1):\n",
    "    burstid = 1520110128 #np.random.randint(1520110128,1520170715)\n",
    "    try:\n",
    "        time, flux = qpp.load_data(datadir,burstid)\n",
    "    except(IOError):\n",
    "        pass\n",
    "    else:\n",
    "        i+=1\n",
    "        tt,ft = qpp.trim_data(time,flux)\n",
    "        ft = ft*1e10  #cheating conversions!!!\n",
    "        ft_err = np.sqrt(ft)\n",
    "        plt.figure()\n",
    "        print(\"Lightcurve \" + str(i) + \", burstid: \" + str(burstid))\n",
    "        print(\"Initializing...\")\n",
    "        \n",
    "        #initialization block\n",
    "        A_guess, t1_guess, t2_guess = qpp.initguess(tt,ft)\n",
    "        model = qpp.CTSModel_prior(log_A = np.log(A_guess), log_tau1 = np.log(t1_guess), log_tau2 = np.log(t2_guess))\n",
    "        kernel1 = qpp.SHOTerm_Prior(log_S0 = 20, log_Q = -1, log_omega0 = -1) #write guesser for kernel parameters\n",
    "        kernel2 = qpp.RealTerm_Prior(log_a=0., log_c=0.) #write guesser for kernel parameters\n",
    "        kernel = kernel2 + kernel1\n",
    "        gp = ce.GP(kernel, mean=model, fit_mean=True)\n",
    "        gp.compute(tt, ft_err)\n",
    "        print(\"Optimizing...\")\n",
    "        \n",
    "        #optimization\n",
    "        soln = qpp.optimize_gp(gp, ft)\n",
    "        figopt = qpp.plot_gp(tt, ft, ft_err, gp, model, soln=soln)\n",
    "    \n",
    "        \n",
    "        #sampling\n",
    "        sampler = qpp.sample_gp(soln.x, ft, gp, burnin=1500, nsteps = 2000)\n",
    "        chain = sampler.chain\n",
    "        print(\"Plotting...\")\n",
    "        figsam = qpp.plot_chain(chain)\n",
    "        \n",
    "        figoptsam = qpp.plot_gp(tt, ft, ft_err, gp, model, chain=chain)\n",
    "        \n",
    "        figcorner, maxparams = qpp.plot_corner(chain, labels = gp.get_parameter_names())\n",
    "        print maxparams\n",
    "        plots.append(figoptsam)\n",
    "        corners.append(figcorner)\n",
    "plt.show()"
   ]
  },
  {
   "cell_type": "code",
   "execution_count": null,
   "metadata": {},
   "outputs": [],
   "source": []
  }
 ],
 "metadata": {
  "kernelspec": {
   "display_name": "Python 2",
   "language": "python",
   "name": "python2"
  },
  "language_info": {
   "codemirror_mode": {
    "name": "ipython",
    "version": 2
   },
   "file_extension": ".py",
   "mimetype": "text/x-python",
   "name": "python",
   "nbconvert_exporter": "python",
   "pygments_lexer": "ipython2",
   "version": "2.7.14"
  }
 },
 "nbformat": 4,
 "nbformat_minor": 2
}
