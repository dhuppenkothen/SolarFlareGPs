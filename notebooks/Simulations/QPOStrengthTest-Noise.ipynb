{
 "cells": [
  {
   "cell_type": "code",
   "execution_count": 1,
   "metadata": {},
   "outputs": [
    {
     "name": "stderr",
     "output_type": "stream",
     "text": [
      "/home/chris/.local/lib/python2.7/site-packages/scipy/linalg/basic.py:17: RuntimeWarning: numpy.dtype size changed, may indicate binary incompatibility. Expected 96, got 88\n",
      "  from ._solve_toeplitz import levinson\n",
      "/home/chris/.local/lib/python2.7/site-packages/scipy/linalg/__init__.py:207: RuntimeWarning: numpy.dtype size changed, may indicate binary incompatibility. Expected 96, got 88\n",
      "  from ._decomp_update import *\n",
      "/home/chris/.local/lib/python2.7/site-packages/scipy/special/__init__.py:640: RuntimeWarning: numpy.dtype size changed, may indicate binary incompatibility. Expected 96, got 88\n",
      "  from ._ufuncs import *\n",
      "/home/chris/.local/lib/python2.7/site-packages/scipy/special/_ellip_harm.py:7: RuntimeWarning: numpy.dtype size changed, may indicate binary incompatibility. Expected 96, got 88\n",
      "  from ._ellip_harm_2 import _ellipsoid, _ellipsoid_norm\n",
      "/home/chris/.local/lib/python2.7/site-packages/scipy/signal/_max_len_seq.py:8: RuntimeWarning: numpy.dtype size changed, may indicate binary incompatibility. Expected 96, got 88\n",
      "  from ._max_len_seq_inner import _max_len_seq_inner\n",
      "/home/chris/.local/lib/python2.7/site-packages/scipy/signal/_upfirdn.py:36: RuntimeWarning: numpy.dtype size changed, may indicate binary incompatibility. Expected 96, got 88\n",
      "  from ._upfirdn_apply import _output_len, _apply\n",
      "/home/chris/.local/lib/python2.7/site-packages/scipy/sparse/lil.py:19: RuntimeWarning: numpy.dtype size changed, may indicate binary incompatibility. Expected 96, got 88\n",
      "  from . import _csparsetools\n",
      "/home/chris/.local/lib/python2.7/site-packages/scipy/sparse/csgraph/__init__.py:165: RuntimeWarning: numpy.dtype size changed, may indicate binary incompatibility. Expected 96, got 88\n",
      "  from ._shortest_path import shortest_path, floyd_warshall, dijkstra,\\\n",
      "/home/chris/.local/lib/python2.7/site-packages/scipy/sparse/csgraph/_validation.py:5: RuntimeWarning: numpy.dtype size changed, may indicate binary incompatibility. Expected 96, got 88\n",
      "  from ._tools import csgraph_to_dense, csgraph_from_dense,\\\n",
      "/home/chris/.local/lib/python2.7/site-packages/scipy/sparse/csgraph/__init__.py:167: RuntimeWarning: numpy.dtype size changed, may indicate binary incompatibility. Expected 96, got 88\n",
      "  from ._traversal import breadth_first_order, depth_first_order, \\\n",
      "/home/chris/.local/lib/python2.7/site-packages/scipy/sparse/csgraph/__init__.py:169: RuntimeWarning: numpy.dtype size changed, may indicate binary incompatibility. Expected 96, got 88\n",
      "  from ._min_spanning_tree import minimum_spanning_tree\n",
      "/home/chris/.local/lib/python2.7/site-packages/scipy/sparse/csgraph/__init__.py:170: RuntimeWarning: numpy.dtype size changed, may indicate binary incompatibility. Expected 96, got 88\n",
      "  from ._reordering import reverse_cuthill_mckee, maximum_bipartite_matching, \\\n",
      "/home/chris/.local/lib/python2.7/site-packages/scipy/optimize/_trlib/__init__.py:1: RuntimeWarning: numpy.dtype size changed, may indicate binary incompatibility. Expected 96, got 88\n",
      "  from ._trlib import TRLIBQuadraticSubproblem\n",
      "/home/chris/.local/lib/python2.7/site-packages/scipy/optimize/_numdiff.py:10: RuntimeWarning: numpy.dtype size changed, may indicate binary incompatibility. Expected 96, got 88\n",
      "  from ._group_columns import group_dense, group_sparse\n",
      "/home/chris/.local/lib/python2.7/site-packages/scipy/interpolate/_bsplines.py:10: RuntimeWarning: numpy.dtype size changed, may indicate binary incompatibility. Expected 96, got 88\n",
      "  from . import _bspl\n",
      "/home/chris/.local/lib/python2.7/site-packages/scipy/spatial/__init__.py:95: RuntimeWarning: numpy.dtype size changed, may indicate binary incompatibility. Expected 96, got 88\n",
      "  from .ckdtree import *\n",
      "/home/chris/.local/lib/python2.7/site-packages/scipy/spatial/__init__.py:96: RuntimeWarning: numpy.dtype size changed, may indicate binary incompatibility. Expected 96, got 88\n",
      "  from .qhull import *\n",
      "/home/chris/.local/lib/python2.7/site-packages/scipy/spatial/_spherical_voronoi.py:18: RuntimeWarning: numpy.dtype size changed, may indicate binary incompatibility. Expected 96, got 88\n",
      "  from . import _voronoi\n",
      "/home/chris/.local/lib/python2.7/site-packages/scipy/spatial/distance.py:122: RuntimeWarning: numpy.dtype size changed, may indicate binary incompatibility. Expected 96, got 88\n",
      "  from . import _hausdorff\n",
      "/home/chris/.local/lib/python2.7/site-packages/scipy/ndimage/measurements.py:36: RuntimeWarning: numpy.dtype size changed, may indicate binary incompatibility. Expected 96, got 88\n",
      "  from . import _ni_label\n",
      "/home/chris/.local/lib/python2.7/site-packages/scipy/signal/spectral.py:10: RuntimeWarning: numpy.dtype size changed, may indicate binary incompatibility. Expected 96, got 88\n",
      "  from ._spectral import _lombscargle\n",
      "/home/chris/.local/lib/python2.7/site-packages/scipy/stats/_continuous_distns.py:18: RuntimeWarning: numpy.dtype size changed, may indicate binary incompatibility. Expected 96, got 88\n",
      "  from . import _stats\n",
      "/home/chris/.local/lib/python2.7/site-packages/scipy/signal/_peak_finding.py:13: RuntimeWarning: numpy.dtype size changed, may indicate binary incompatibility. Expected 96, got 88\n",
      "  from ._peak_finding_utils import (_argmaxima1d, _select_by_peak_distance,\n",
      "/home/chris/.local/lib/python2.7/site-packages/h5py/__init__.py:36: RuntimeWarning: numpy.dtype size changed, may indicate binary incompatibility. Expected 96, got 88\n",
      "  from ._conv import register_converters as _register_converters\n",
      "/home/chris/.local/lib/python2.7/site-packages/h5py/__init__.py:45: RuntimeWarning: numpy.dtype size changed, may indicate binary incompatibility. Expected 96, got 88\n",
      "  from . import h5a, h5d, h5ds, h5f, h5fd, h5g, h5r, h5s, h5t, h5p, h5z\n",
      "/home/chris/.local/lib/python2.7/site-packages/h5py/_hl/group.py:22: RuntimeWarning: numpy.dtype size changed, may indicate binary incompatibility. Expected 96, got 88\n",
      "  from .. import h5g, h5i, h5o, h5r, h5t, h5l, h5p\n",
      "/home/chris/.local/lib/python2.7/site-packages/scipy/cluster/vq.py:78: RuntimeWarning: numpy.dtype size changed, may indicate binary incompatibility. Expected 96, got 88\n",
      "  from . import _vq\n",
      "/home/chris/.local/lib/python2.7/site-packages/scipy/cluster/hierarchy.py:178: RuntimeWarning: numpy.dtype size changed, may indicate binary incompatibility. Expected 96, got 88\n",
      "  from . import _hierarchy, _optimal_leaf_ordering\n",
      "/home/chris/.local/lib/python2.7/site-packages/dynesty/bounding.py:73: UserWarning: Robust OAS shrunk covariance estimator from `sklearn` is not available. Defaulting to MLE estimator from `numpy`.\n",
      "  warnings.warn(\"Robust OAS shrunk covariance estimator from `sklearn` is \"\n"
     ]
    }
   ],
   "source": [
    "import numpy as np\n",
    "import scipy as sp\n",
    "from scipy import signal\n",
    "import matplotlib.pyplot as plt\n",
    "import QPP_Funcs as qpp\n",
    "import celerite as ce\n",
    "import os\n",
    "from celerite.solver import LinAlgError\n",
    "import dynesty\n",
    "from dynesty import utils as dyfunc\n",
    "\n",
    "SHO_prior_bounds  = [(np.log(1), np.log(1e7)),(np.log(2), np.log(20)), (2, 7)]\n",
    "CTSModel_prior_bounds  = [(np.log(1), np.log(1e7)), (np.log(1), np.log(1e4)), (np.log(1), np.log(1e7)), (-10, 10)]\n",
    "RealTerm_prior_bounds  = [(-20,20), (-20,10)]\n",
    "\n",
    "bound_vec = SHO_prior_bounds  + CTSModel_prior_bounds\n",
    "bound_vec2 = RealTerm_prior_bounds + CTSModel_prior_bounds\n",
    "prior_transform = qpp.make_prior_transform(bound_vec)\n",
    "prior_transform2 = qpp.make_prior_transform(bound_vec2)\n",
    "\n",
    "dim = 5\n",
    "s0 = np.linspace(np.log(2), np.log(9e6),dim)\n",
    "q = np.linspace(np.log(3), np.log(19),dim)\n",
    "a = np.linspace(-19.9,19.0,dim)\n",
    "c= np.linspace(-19.9,9.9,dim)\n",
    "\n",
    "datadir = \"Data/Simulating/09142018_NOQPO/\"\n",
    "loc = (datadir + \"simulated_burst_\")"
   ]
  },
  {
   "cell_type": "code",
   "execution_count": null,
   "metadata": {
    "scrolled": true
   },
   "outputs": [
    {
     "name": "stdout",
     "output_type": "stream",
     "text": [
      "Exists at: Data/Simulating/09142018_NOQPO/simulated_burst_A-19.90C-19.90/\n",
      "Exists at: Data/Simulating/09142018_NOQPO/simulated_burst_A-19.90C-12.45/\n",
      "Exists at: Data/Simulating/09142018_NOQPO/simulated_burst_A-19.90C-5.00/\n",
      "Exists at: Data/Simulating/09142018_NOQPO/simulated_burst_A-19.90C2.45/\n",
      "Running A: -19.9\tC: 9.9\n",
      "Saving at: Data/Simulating/09142018_NOQPO/simulated_burst_A-19.90C9.90/\n",
      "\n"
     ]
    },
    {
     "name": "stderr",
     "output_type": "stream",
     "text": [
      "QPP_Funcs.py:40: RuntimeWarning: divide by zero encountered in divide\n",
      "  return A*lam*np.exp((-tau1/t)-(t/tau2)) + bkg\n",
      "QPP_Funcs.py:38: RuntimeWarning: overflow encountered in exp\n",
      "  lam = np.exp(np.sqrt(2*np.exp(tau1/tau2)))\n",
      "QPP_Funcs.py:40: RuntimeWarning: invalid value encountered in multiply\n",
      "  return A*lam*np.exp((-tau1/t)-(t/tau2)) + bkg\n",
      "QPP_Funcs.py:40: RuntimeWarning: overflow encountered in double_scalars\n",
      "  return A*lam*np.exp((-tau1/t)-(t/tau2)) + bkg\n",
      "iter: 9 | batch: 0 | bound: 0 | nc: 1 | ncall: 11 | eff(%):  1.761 | loglstar:   -inf <   -inf <    inf | logz:   -inf +/-    nan | dlogz:    inf >  0.010            "
     ]
    },
    {
     "name": "stdout",
     "output_type": "stream",
     "text": [
      "Sampling2 ...\n"
     ]
    },
    {
     "name": "stderr",
     "output_type": "stream",
     "text": [
      "iter: 1162 | batch: 0 | bound: 0 | nc: 11 | ncall: 4951 | eff(%): 21.317 | loglstar:   -inf <   -inf <    inf | logz:   -inf +/-    nan | dlogz:    inf >  0.010            QPP_Funcs.py:38: RuntimeWarning: overflow encountered in double_scalars\n",
      "  lam = np.exp(np.sqrt(2*np.exp(tau1/tau2)))\n",
      "iter: 1715 | batch: 0 | bound: 0 | nc: 51 | ncall: 16677 | eff(%):  9.984 | loglstar:   -inf < -37182.410 <    inf | logz: -37192.744 +/-    nan | dlogz: 22692.069 >  0.010               /home/chris/.local/lib/python2.7/site-packages/dynesty/bounding.py:1223: UserWarning: Volume is sparsely sampled. MLE covariance estimates and associated ellipsoid decompositions might be unstable.\n",
      "  warnings.warn(\"Volume is sparsely sampled. MLE covariance \"\n",
      "iter: 7542 | batch: 0 | bound: 372 | nc: 25 | ncall: 164441 | eff(%):  4.573 | loglstar:   -inf < -13817.551 <    inf | logz: -13836.817 +/-    nan | dlogz: 370.860 >  0.010             /home/chris/.local/lib/python2.7/site-packages/dynesty/sampling.py:220: UserWarning: Random walk proposals appear to be extremely inefficient. Adjusting the scale-factor accordingly.\n",
      "  warnings.warn(\"Random walk proposals appear to be \"\n",
      "/home/chris/.local/lib/python2.7/site-packages/dynesty/sampling.py:200: UserWarning: Random number generation appears to be extremely inefficient. Bounding distributions might be sub-optimal.\n",
      "  warnings.warn(\"Random number generation appears to be \"\n",
      "iter: 23987 | batch: 0 | bound: 1416 | nc: 1 | ncall: 1206027 | eff(%):  1.989 | loglstar:   -inf < -13349.735 <    inf | logz: -13392.052 +/-    nan | dlogz:  0.000 >  0.010                /home/chris/.local/lib/python2.7/site-packages/dynesty/dynamicsampler.py:576: RuntimeWarning: invalid value encountered in sqrt\n",
      "  ('logzerr', np.sqrt(np.array(self.saved_logzvar))),\n",
      "/home/chris/.local/lib/python2.7/site-packages/dynesty/utils.py:353: RuntimeWarning: invalid value encountered in sqrt\n",
      "  new_res.logzerr = np.sqrt(np.array(saved_logzvar))\n",
      "iter: 33494 | batch: 3 | bound: 1927 | nc: 25 | ncall: 1448159 | eff(%):  2.313 | loglstar: -13360.661 < -13349.891 < -13352.352 | logz: -13391.999 +/-    nan | stop:  0.917              \n"
     ]
    },
    {
     "name": "stdout",
     "output_type": "stream",
     "text": [
      "Sampling1 ...\n"
     ]
    },
    {
     "name": "stderr",
     "output_type": "stream",
     "text": [
      "iter: 40718 | batch: 9 | bound: 2187 | nc: 25 | ncall: 1517930 | eff(%):  2.682 | loglstar: -13357.576 < -13350.042 < -13351.191 | logz: -13395.293 +/-    nan | stop:  0.889                 \n"
     ]
    },
    {
     "name": "stdout",
     "output_type": "stream",
     "text": [
      "Stored flare at Data/Simulating/09142018_NOQPO/simulated_burst_A-19.90C9.90/data\n",
      "Stored flare at Data/Simulating/09142018_NOQPO/simulated_burst_A-19.90C9.90/data2\n",
      "Running A: -10.174999999999999\tC: -19.9\n",
      "Saving at: Data/Simulating/09142018_NOQPO/simulated_burst_A-10.17C-19.90/\n",
      "\n"
     ]
    },
    {
     "name": "stderr",
     "output_type": "stream",
     "text": [
      "iter: 12 | batch: 0 | bound: 0 | nc: 3 | ncall: 14 | eff(%):  2.335 | loglstar:   -inf <   -inf <    inf | logz:   -inf +/-    nan | dlogz:    inf >  0.010            "
     ]
    },
    {
     "name": "stdout",
     "output_type": "stream",
     "text": [
      "Sampling2 ...\n"
     ]
    },
    {
     "name": "stderr",
     "output_type": "stream",
     "text": [
      "iter: 32851 | batch: 4 | bound: 1841 | nc: 25 | ncall: 1302989 | eff(%):  2.521 | loglstar: -13383.801 < -13371.803 < -13373.301 | logz: -13412.896 +/-    nan | stop:  0.924                 \n"
     ]
    },
    {
     "name": "stdout",
     "output_type": "stream",
     "text": [
      "Sampling1 ...\n"
     ]
    },
    {
     "name": "stderr",
     "output_type": "stream",
     "text": [
      "iter: 39577 | batch: 8 | bound: 2164 | nc: 25 | ncall: 1593353 | eff(%):  2.484 | loglstar: -13379.625 < -13372.009 < -13373.706 | logz: -13417.633 +/-    nan | stop:  0.878                 \n",
      "/home/chris/.local/lib/python2.7/site-packages/celerite/celerite.py:505: RuntimeWarning: covariance is not symmetric positive-semidefinite.\n",
      "  return np.random.multivariate_normal(mu, cov, size=size)\n"
     ]
    },
    {
     "name": "stdout",
     "output_type": "stream",
     "text": [
      "Stored flare at Data/Simulating/09142018_NOQPO/simulated_burst_A-10.17C-19.90/data\n",
      "Stored flare at Data/Simulating/09142018_NOQPO/simulated_burst_A-10.17C-19.90/data2\n",
      "Running A: -10.174999999999999\tC: -12.45\n",
      "Saving at: Data/Simulating/09142018_NOQPO/simulated_burst_A-10.17C-12.45/\n",
      "\n"
     ]
    },
    {
     "name": "stderr",
     "output_type": "stream",
     "text": [
      "iter: 4 | batch: 0 | bound: 0 | nc: 1 | ncall: 5 | eff(%):  0.792 | loglstar:   -inf <   -inf <    inf | logz:   -inf +/-    nan | dlogz:    inf >  0.010            "
     ]
    },
    {
     "name": "stdout",
     "output_type": "stream",
     "text": [
      "Sampling2 ...\n"
     ]
    },
    {
     "name": "stderr",
     "output_type": "stream",
     "text": [
      "iter: 16272 | batch: 0 | bound: 937 | nc: 25 | ncall: 701195 | eff(%):  2.319 | loglstar:   -inf < -13465.590 <    inf | logz: -13498.104 +/-    nan | dlogz:  5.669 >  0.010               "
     ]
    }
   ],
   "source": [
    "for ai in a:\n",
    "    for ci in c:\n",
    "        qpoparams = [np.log(1.1), np.log(2.1), 3]\n",
    "        qpolabel = (\"A{:1.2f}\".format(ai)+\"C{:1.2f}\".format(ci))\n",
    "        fname = loc + qpolabel+\"/\"\n",
    "        if os.path.exists(fname):\n",
    "            print(\"Exists at: \" + fname)\n",
    "            continue\n",
    "        print(\"Running A: \" + str(ai) + \"\\tC: \"+ str(ci)  +\"\\nSaving at: \" + fname + '\\n')\n",
    "        realparams = [ai, ci] \n",
    "        modelparams = [11.33844804, 6.92311406, 6.85207764, np.log(1000)]\n",
    "        trueparams = qpoparams + modelparams\n",
    "        ndim = len(trueparams)\n",
    "        ndim2 = len(bound_vec2)\n",
    "                \n",
    "        model = qpp.CTSModel_prior(log_A = modelparams[0], log_tau1 = modelparams[1], log_tau2 = modelparams[2], log_bkg = modelparams[3])\n",
    "      #  kernel1 = qpp.SHOTerm_Prior(log_S0 = qpoparams[0], log_Q = qpoparams[1], log_omega0 = qpoparams[2])\n",
    "        kernel2 = qpp.RealTerm_Prior(log_a = realparams[0], log_c = realparams[1])\n",
    "        kernel = kernel2\n",
    "\n",
    "        t = np.linspace(0,4000,2000)\n",
    "        I = qpp.simulate(t, model, kernel, noisy = True)\n",
    "\n",
    "\n",
    "\n",
    "        A_guess, t1_guess, t2_guess = qpp.initguess(t,I)\n",
    "        model = qpp.CTSModel_prior(log_A = np.log(A_guess), log_tau1 = np.log(t1_guess), log_tau2 = np.log(t2_guess), log_bkg = np.log(1000))\n",
    "        kernel1 = qpp.SHOTerm_Prior(log_S0 = np.log(3), log_Q = np.log(3), log_omega0 = 3) #write guesser for kernel parameters\n",
    "        kernel2 = qpp.RealTerm_Prior(log_a=0., log_c=0.) #write guesser for kernel parameters\n",
    "        kernel = kernel1\n",
    "        gp = ce.GP(kernel, mean=model, fit_mean=True)\n",
    "        gp.compute(t, np.sqrt(I))\n",
    "        initparams = gp.get_parameter_vector()\n",
    "        \n",
    "        gp2 = ce.GP(kernel2, mean=model, fit_mean=True)\n",
    "        gp2.compute(t, np.sqrt(I))\n",
    "        initparams2 = gp.get_parameter_vector()\n",
    "\n",
    "        loglike = qpp.make_loglike(I, gp)\n",
    "        loglike2 = qpp.make_loglike(I, gp2)\n",
    "\n",
    "        soln = qpp.optimize_gp(gp, I)\n",
    "        gp.set_parameter_vector(soln.x)\n",
    "        figopt = qpp.plot_gp(t, I, np.sqrt(I), gp, model, predict=True, label = \"Optimized fit\", flat=True)\n",
    "\n",
    "        soln2 = qpp.optimize_gp(gp2, I)\n",
    "        gp2.set_parameter_vector(soln2.x)\n",
    "        figopt2 = qpp.plot_gp(t, I, np.sqrt(I), gp2, model, predict=True, label = \"Optimized fit\", flat=True)\n",
    "        \n",
    "        sampler =  dynesty.DynamicNestedSampler(loglike, prior_transform, ndim, bound=\"multi\", sample=\"rwalk\", nlive=1000)\n",
    "        sampler2 =  dynesty.DynamicNestedSampler(loglike2, prior_transform2, ndim2, bound=\"multi\", sample=\"rwalk\", nlive=1000)\n",
    "\n",
    "        print \"Sampling2 ...\"\n",
    "        sampler2.run_nested()\n",
    "        res2 = sampler2.results\n",
    "        bayesfac2 = res2.logz[-1:]\n",
    "        samples2, weights2 = res2.samples, np.exp(res2.logwt-res2.logz[-1])\n",
    "        chain2 = dyfunc.resample_equal(samples2, weights2)\n",
    "        \n",
    "        print \"Sampling1 ...\"\n",
    "        sampler.run_nested()\n",
    "        res = sampler.results\n",
    "        bayesfac = res.logz[-1:]\n",
    "        samples, weights = res.samples, np.exp(res.logwt-res.logz[-1])\n",
    "        chain = dyfunc.resample_equal(samples, weights)\n",
    "\n",
    "        #figsam = qpp.plot_chain(chain, labels = gp.get_parameter_names(), burstid = qpolabel, flat=True)\n",
    "\n",
    "        try:\n",
    "            figoptsam = qpp.plot_gp(t, I, np.sqrt(I), gp, model, chain=chain, burstid = qpolabel, predict=True, flat=True)\n",
    "        except LinAlgError:\n",
    "            figoptsam = qpp.plot_gp(t, I, np.sqrt(I), gp, model, chain=chain, burstid = qpolabel, predict=True, flat=True)\n",
    "\n",
    "        try:\n",
    "            figoptsam2 = qpp.plot_gp(t, I, np.sqrt(I), gp2, model, chain=chain2, burstid = qpolabel, predict=True, flat=True)\n",
    "        except LinAlgError:\n",
    "            figoptsam2 = qpp.plot_gp(t, I, np.sqrt(I), gp2, model, chain=chain2, burstid = qpolabel, predict=True, flat=True)\n",
    "   \n",
    "            \n",
    "            \n",
    "        figcorner, maxparams = qpp.plot_corner(chain, labels = gp.get_parameter_names(), truevals = trueparams, burstid = qpolabel, flat=True)\n",
    "        figcorner2, maxparams2 = qpp.plot_corner(chain2, labels = gp2.get_parameter_names(), burstid = qpolabel, flat=True)\n",
    "        bayesresult = bayesfac-bayesfac2\n",
    "\n",
    "        header = \"Rednoise Kernel Params: \\t\"+str(realparams) + \"\\nQPO Params: \\t\" + str(qpoparams) + \"\\nEnvelope Params \\t\" + str(modelparams) + \"\\nTrue Parameter Vector: \\t\" + str(trueparams) + \"\\nMaxParams: \\t\" + str(maxparams) + \"\\nBayes Factor: \\t\" + str(bayesresult)\n",
    "        fname = loc + qpolabel+\"/\"\n",
    "\n",
    "        if not os.path.exists(fname):\n",
    "            os.makedirs(fname)\n",
    "            \n",
    "            qpp.store_flare(fname+\"data\", header, t, I, soln.x, chain, res)\n",
    "            figoptsam.savefig(fname+\"lc_plot.png\")\n",
    "            figcorner.savefig(fname+\"chain_corner.png\")\n",
    "            \n",
    "            qpp.store_flare(fname+\"data2\", header, t, I, soln2.x, chain2, res2)\n",
    "            figoptsam2.savefig(fname+\"lc_plot2.png\")\n",
    "            figcorner2.savefig(fname+\"chain_corner2.png\")\n",
    "            \n",
    "            \n",
    "            textheader = open(fname+\"header.txt\",'w')\n",
    "            textheader.write(header)\n",
    "            textheader.close()\n",
    "        else:\n",
    "            print \"directory exists\""
   ]
  },
  {
   "cell_type": "code",
   "execution_count": null,
   "metadata": {},
   "outputs": [],
   "source": [
    "import numpy as np\n",
    "import matplotlib.pyplot as plt\n",
    "import QPP_Funcs as qpp\n",
    "import celerite as ce\n",
    "\n",
    "import glob, ast\n",
    "files =  glob.glob(datadir+\"*\")\n",
    "dim = int(np.sqrt(len(files)))\n",
    "qpoparam_array = []\n",
    "bfac_array = []\n",
    "oparam_array = []\n",
    "chain_array = []\n",
    "I_array = []\n",
    "\n",
    "\n",
    "\n",
    "print(\"Sorting Data...\")\n",
    "\n",
    "for i in range(len(files)):\n",
    "    loc = files[i]+'/data'\n",
    "    head, t, I, oparams, chain, res = qpp.load_flare(loc)\n",
    "    p1 = head.partition('QPO Params: \\t')\n",
    "    p2 = p1[2].partition('\\n')\n",
    "    qpoparams = ast.literal_eval(p2[0])\n",
    "    p3 = head.partition('Bayes Factor: \\t')\n",
    "    p4 = p3[2].partition('\\n')\n",
    "    bfac = ast.literal_eval(p4[0])\n",
    "    chain = np.array(chain) \n",
    "    bfac_array.append(bfac[0])\n",
    "    oparam_array.append(oparams)\n",
    "    qpoparam_array.append(qpoparams)\n",
    "    chain_array.append(chain)\n",
    "    I_array.append(I)\n",
    "\n",
    "t = np.linspace(0,4000,2000)\n",
    "oparam_array = np.array(oparam_array)\n",
    "bfac_array = np.array(bfac_array)\n",
    "qpoparam_array = np.array(qpoparam_array)\n",
    "chain_array = np.array(chain_array)\n",
    "I_array = np.array(I_array)\n",
    "    \n",
    "oparams_grid = [[None for _ in range(dim)] for _ in range(dim)]\n",
    "bfac_grid = [[None for _ in range(dim)] for _ in range(dim)]\n",
    "qpoparams_grid = [[None for _ in range(dim)] for _ in range(dim)]\n",
    "chain_grid = [[None for _ in range(dim)] for _ in range(dim)]\n",
    "I_grid = [[None for _ in range(dim)] for _ in range(dim)]\n",
    "    \n",
    "sort_array = np.argsort(qpoparam_array, axis=0)\n",
    "for i in range(len(sort_array)):\n",
    "    oparams_grid[i/dim][i%dim] = oparam_array[sort_array[i][0]]\n",
    "    bfac_grid[i/dim][i%dim] = bfac_array[sort_array[i][0]]\n",
    "    qpoparams_grid[i/dim][i%dim] = qpoparam_array[sort_array[i][0]]\n",
    "    chain_grid[i/dim][i%dim] = chain_array[sort_array[i][0]]\n",
    "    I_grid[i/dim][i%dim] = I_array[sort_array[i][0]]\n",
    "\n",
    "\n",
    "qpoparams = [1, 1, 3]\n",
    "realparams = [-.13, -1.4] \n",
    "modelparams = [11.33844804, 6.92311406, 6.85207764, np.log(1000)]\n",
    "model = qpp.CTSModel_prior(log_A = modelparams[0], log_tau1 = modelparams[1], log_tau2 = modelparams[2], log_bkg = modelparams[3])\n",
    "kernel1 = qpp.SHOTerm_Prior(log_S0 = qpoparams[0], log_Q = qpoparams[1], log_omega0 = qpoparams[2])\n",
    "#kernel2 = qpp.RealTerm_Prior(log_a = realparams[0], log_c = realparams[1])\n",
    "kernel = kernel1\n",
    "gp = ce.GP(kernel, mean=model, fit_mean=True)\n",
    "print gp.get_parameter_names()"
   ]
  },
  {
   "cell_type": "code",
   "execution_count": null,
   "metadata": {
    "scrolled": false
   },
   "outputs": [],
   "source": [
    "gridfig, gridax = plt.subplots(nrows = dim, ncols = dim, sharex=True, sharey=True, squeeze=True, figsize=(20,20))\n",
    "curvefig, curveax = plt.subplots(nrows = dim, ncols = dim, figsize=(20,20))\n",
    "#postfig, postax = plt.subplots(nrows = dim, ncols = dim, figsize=(20,20))\n",
    "\n",
    "gridfig.text(0.5, 0.04, 'Power Factor $S_0$', ha='center')\n",
    "gridfig.text(0.04, 0.5, 'Quality Factor $Q$', va='center', rotation='vertical')\n",
    "\n",
    "print(\"Plotting results...\")\n",
    "sort_array = np.argsort(qpoparams_grid, axis=1)\n",
    "for i in range(dim):\n",
    "    for j in range(dim):\n",
    "        print(\"Plot \" + str((dim*i)+j+1))\n",
    "        index = sort_array[i][j][1]\n",
    "        chain = chain_grid[i][index]\n",
    "        bfac = bfac_grid[i][index]\n",
    "        I = I_grid[i][index]\n",
    "        oparams = oparams_grid[i][index]\n",
    "        params = qpoparams_grid[i][index]\n",
    "        s0_chain = chain[:,0]\n",
    "        Q_chain = chain[:,1]\n",
    "        bounds = [[SHO_prior_bounds[0][0],SHO_prior_bounds[0][1]],[SHO_prior_bounds[1][0], SHO_prior_bounds[1][1]]]\n",
    "        gridax[j,i].hist2d(s0_chain, Q_chain,bins=50, range = bounds, normed=True)\n",
    "        gridax[j,i].plot(params[0], params[1], 'r.')\n",
    "        name = \"Bfac = {0:.2f}\".format(bfac) + \"\\n$S_0$:{0:.2f}\".format(params[0])+\", Q: {0:.2f}\".format(params[1])\n",
    "        gridax[j,i].set_title(name)\n",
    "        gp.compute(t, np.sqrt(I))\n",
    "        '''\n",
    "        for k in range(8):\n",
    "            oparams = chain[np.random.randint(len(chain)-1)]\n",
    "            gp.set_parameter_vector(oparams)\n",
    "            model.set_parameter_vector(oparams[-len(gp.mean.get_parameter_vector()):])\n",
    "            sample = gp.sample_conditional(I,t)\n",
    "            postax[j,i].plot(t,sample, 'g', alpha=.2)\n",
    "\n",
    "        gp.set_parameter_vector(oparams)\n",
    "        model.set_parameter_vector(oparams[-len(gp.mean.get_parameter_vector()):])\n",
    "        #curveax[j,i].plot(t, I, 'k.', alpha = 0.05)\n",
    "        curveax[j,i].plot(t, gp.mean.get_value(t), 'r--')\n",
    "        '''       \n",
    "        curveax[j,i].set_title(name)\n",
    "        \n",
    "plt.show()\n",
    "    "
   ]
  },
  {
   "cell_type": "code",
   "execution_count": null,
   "metadata": {},
   "outputs": [],
   "source": [
    "index = sort_array[i][j][1]\n",
    "chain = chain_grid[i][index]\n",
    "bfac = bfac_grid[i][index]\n",
    "I = I_grid[i][index]\n",
    "oparams = oparams_grid[i][index]\n",
    "params = qpoparams_grid[i][index]\n",
    "s0_chain = chain[:,0]\n",
    "Q_chain = chain[:,1]\n",
    "bounds = [[SHO_prior_bounds[0][0],SHO_prior_bounds[0][1]],[SHO_prior_bounds[1][0], SHO_prior_bounds[1][1]]]\n",
    "plt.hist2d(s0_chain, Q_chain,bins=50, range = bounds, normed=True)\n",
    "plt.plot(params[0], params[1], 'r.')\n",
    "name = \"Bfac = {0:.2f}\".format(bfac) + \"\\n$S_0$:{0:.2f}\".format(params[0])+\", Q: {0:.2f}\".format(params[1])\n"
   ]
  },
  {
   "cell_type": "code",
   "execution_count": null,
   "metadata": {},
   "outputs": [],
   "source": [
    "#%matplotlib notebook\n",
    "plt.get_backend()"
   ]
  },
  {
   "cell_type": "code",
   "execution_count": null,
   "metadata": {},
   "outputs": [],
   "source": [
    "%load_ext autoreload\n",
    "%autoreload 2\n",
    "import QPP_Funcs as qpp"
   ]
  },
  {
   "cell_type": "code",
   "execution_count": null,
   "metadata": {
    "collapsed": true
   },
   "outputs": [],
   "source": [
    "gp.mean.get_parameter_vector()"
   ]
  }
 ],
 "metadata": {
  "kernelspec": {
   "display_name": "Python 2",
   "language": "python",
   "name": "python2"
  },
  "language_info": {
   "codemirror_mode": {
    "name": "ipython",
    "version": 2
   },
   "file_extension": ".py",
   "mimetype": "text/x-python",
   "name": "python",
   "nbconvert_exporter": "python",
   "pygments_lexer": "ipython2",
   "version": "2.7.12"
  }
 },
 "nbformat": 4,
 "nbformat_minor": 2
}
