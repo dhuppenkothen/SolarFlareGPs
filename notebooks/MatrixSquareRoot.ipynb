{
 "cells": [
  {
   "cell_type": "markdown",
   "metadata": {},
   "source": [
    "# Square Matrix Generator\n",
    "The purpose of this notebook is to write (and clearly comment) a function for finding the root of an inverse variance matrix and verifying it via matrix inversion, as well as timing the methods to see if they're viable for use for a 1000x1000 matrix.\n",
    "\n",
    "Here's the initial test matrices, as well as tests for ensuring they're symmetric (since they're real, this implies their Hermitian, which will make solving for eigenvectors and eigenvalues easier):"
   ]
  },
  {
   "cell_type": "code",
   "execution_count": 1,
   "metadata": {},
   "outputs": [
    {
     "name": "stdout",
     "output_type": "stream",
     "text": [
      "True\n",
      "True\n"
     ]
    }
   ],
   "source": [
    "import numpy as np\n",
    "import scipy as sp\n",
    "import scipy.linalg\n",
    "import time\n",
    "import matplotlib.pyplot as plt\n",
    "\n",
    "#setting the size of the arrays for testing, will start small for testing and then will scale up for timing\n",
    "N = 1000\n",
    "\n",
    "#sigmas exist on a uniform distribution from [100, 300]\n",
    "\n",
    "#pure diagonal matrix with equal values\n",
    "def makeV1(N, sigmarange=[100,300]):\n",
    "    sigma1 = np.random.random()*(sigmarange[1]-sigmarange[0]) + sigmarange[0]\n",
    "    V1 = sigma1 * np.identity(N)\n",
    "    return V1\n",
    "V1 = makeV1(N)\n",
    "#checks to ensure symmetry (and hermicity since all real)\n",
    "print np.allclose(V1,np.ndarray.transpose(V1))\n",
    "\n",
    "#diagonal matrix with different elements\n",
    "def makeV2(N, sigmarange=[100,300]):\n",
    "    sigma2 = np.random.rand(N)*(sigmarange[1]-sigmarange[0]) + sigmarange[0]\n",
    "    V2 = sigma2 * np.identity(N)\n",
    "    return V2\n",
    "V2 = makeV2(N)\n",
    "print np.allclose(V2,np.ndarray.transpose(V2))\n",
    "\n",
    "\n"
   ]
  },
  {
   "cell_type": "markdown",
   "metadata": {},
   "source": [
    "Let's write the method for finding the matrix square roots. The general idea is that we can decompose a matrix $V$ as:\n",
    "\n",
    "$V = \\sum_d^D \\lambda_d \\vec{U} \\vec{U}^T$\n",
    "or\n",
    "$V^{-1} = \\sum_d^D \\frac{1}{\\lambda_d} \\vec{U} \\vec{U}^T$\n",
    "\n",
    "Where $\\lambda_d$ are the eigenvalues, and $\\vec{U}_d$ are the corresponding eigenvectors. This can be further decomposed as:\n",
    "\n",
    "$V^{-1} = \\sum_d^D \\frac{1}{\\sqrt{\\lambda_d}}  \\vec{U} \\cdot \\vec{U}^T \\frac{1}{\\sqrt{\\lambda_d}}$\n",
    "\n",
    "If we set the definition $w_d \\equiv \\frac{1}{\\sqrt{\\lambda_d}} \\vec{U}_d ^T$, then we can write:\n",
    "\n",
    "$V^{-1}= w^{T} \\cdot w$\n",
    "\n",
    "So inverting the matrix becomes a simple case of finding the eigenvectors and eigenvalues, constructing $w$, and transposing and taking the dot product.\n",
    "\n",
    "My function below calculates $w$:\n"
   ]
  },
  {
   "cell_type": "code",
   "execution_count": 2,
   "metadata": {
    "collapsed": true
   },
   "outputs": [],
   "source": [
    "#computes matrix square root of inverse variance matrix provided variance matrix\n",
    "def matrixsqrt(V, label=\"0\"):\n",
    "    N = len(V[0])\n",
    "    #extracts eigenvalues and eigenvectors (bottleneck!)\n",
    "    eigs, eigvecs = sp.linalg.eigh(V)\n",
    "    wt = np.empty([N,N]) #square root matrix (transposed)\n",
    "    logdet = 0.\n",
    "    start = time.time()\n",
    "    for i in range(N):\n",
    "        #sets each column in our transposed square root to the eigenvalue scaled by 1/sqrt(eig)\n",
    "        wt[:,i] = (1./np.sqrt(eigs[i])) * eigvecs[:,i]\n",
    "        logdet += np.log(2 * np.pi * eigs[i])\n",
    "        #transposes the result\n",
    "    w = np.ndarray.transpose(wt)\n",
    "    end = time.time()\n",
    "    dt = end-start\n",
    "    if(label!=\"0\"):\n",
    "        print(\"Time elapsed for \" + label + \" is: \" + str(dt) + \"s\")\n",
    "    return w, logdet, dt\n"
   ]
  },
  {
   "cell_type": "markdown",
   "metadata": {},
   "source": [
    "Let's test this with our two test functions. Taking the dot product of the matrix square root and it's transpose should produce $V^{-1}$, so the dot product of that with $V$ should  produce the identity matrix, so this is our test:"
   ]
  },
  {
   "cell_type": "code",
   "execution_count": 3,
   "metadata": {},
   "outputs": [
    {
     "name": "stdout",
     "output_type": "stream",
     "text": [
      "Time elapsed for V1 is: 0.0236489772797s\n",
      "[[ 1.  0.  0. ...,  0.  0.  0.]\n",
      " [ 0.  1.  0. ...,  0.  0.  0.]\n",
      " [ 0.  0.  1. ...,  0.  0.  0.]\n",
      " ..., \n",
      " [ 0.  0.  0. ...,  1.  0.  0.]\n",
      " [ 0.  0.  0. ...,  0.  1.  0.]\n",
      " [ 0.  0.  0. ...,  0.  0.  1.]]\n",
      "Time elapsed for V2 is: 0.0395441055298s\n",
      "[[ 1.  0.  0. ...,  0.  0.  0.]\n",
      " [ 0.  1.  0. ...,  0.  0.  0.]\n",
      " [ 0.  0.  1. ...,  0.  0.  0.]\n",
      " ..., \n",
      " [ 0.  0.  0. ...,  1.  0.  0.]\n",
      " [ 0.  0.  0. ...,  0.  1.  0.]\n",
      " [ 0.  0.  0. ...,  0.  0.  1.]]\n"
     ]
    }
   ],
   "source": [
    "w1, logdet1, dt1 = matrixsqrt(V1, label=\"V1\")\n",
    "print np.dot(V1, np.dot(np.ndarray.transpose(w1), w1))\n",
    "\n",
    "\n",
    "w2, logdet2, dt2 = matrixsqrt(V2, label=\"V2\")\n",
    "print np.dot(V2, np.dot(np.ndarray.transpose(w2), w2))\n"
   ]
  },
  {
   "cell_type": "markdown",
   "metadata": {},
   "source": [
    "Great, it looks like we're working. Let's try the third sample variance matrix, which is our second test matrix $V_2$ added with a kernal matrix $K$, defined as:\n",
    "\n",
    "$K_{ab} = A \\cdot exp\\left({-\\frac{1}{2}\\frac{(t_a-t_b)^2}{\\tau^2}}\\right)$\n",
    "\n",
    "Where $A$ and $\\tau$ are parameters to be fit corresponding to noise and time correlation, but for testing purposes, we'll set them to $A=200$ and $\\tau = 30s$."
   ]
  },
  {
   "cell_type": "code",
   "execution_count": 4,
   "metadata": {},
   "outputs": [
    {
     "name": "stdout",
     "output_type": "stream",
     "text": [
      "True\n"
     ]
    }
   ],
   "source": [
    "#opening data\n",
    "data1 = \"/home/chris/Documents/QPP/SolarFlareGPs/data/121022782_ctime_lc.txt\"\n",
    "t1, I1 = np.loadtxt(data1, unpack=True)\n",
    "\n",
    "def makeV3(t, sigmarange=[100,300], A=300, tau=30):\n",
    "    N = len(t)\n",
    "    K = np.empty([N,N])\n",
    "    for i in range(N):\n",
    "        for j in range(N):\n",
    "            K[i][j] = A * np.exp(-0.5 * np.power(((t1[i]-t1[j])/(tau)),2))\n",
    "    V3 = makeV2(N, sigmarange=sigmarange) + K\n",
    "    return V3\n",
    "V3 = makeV3(t1)\n",
    "print np.allclose(V3,np.ndarray.transpose(V3))"
   ]
  },
  {
   "cell_type": "markdown",
   "metadata": {},
   "source": [
    "And now, let's try to find the matrix square root of this guy:"
   ]
  },
  {
   "cell_type": "code",
   "execution_count": null,
   "metadata": {},
   "outputs": [
    {
     "name": "stdout",
     "output_type": "stream",
     "text": [
      "Time elapsed for V3 is: 0.0298261642456s\n"
     ]
    },
    {
     "data": {
      "text/plain": [
       "True"
      ]
     },
     "execution_count": 5,
     "metadata": {},
     "output_type": "execute_result"
    }
   ],
   "source": [
    "w3, logdet3, dt3 = matrixsqrt(V3, label=\"V3\")\n",
    "result = np.dot(V3, np.dot(np.ndarray.transpose(w3), w3))\n",
    "#Didn't print the matrix because it's too big and contains small off-diagonal elements \n",
    "np.allclose(result,np.identity(len(t1)))"
   ]
  },
  {
   "cell_type": "markdown",
   "metadata": {},
   "source": [
    "To be concise, lets make a convergence plot:"
   ]
  },
  {
   "cell_type": "code",
   "execution_count": null,
   "metadata": {},
   "outputs": [],
   "source": [
    "NArray = np.logspace(1, 15, base=2, dtype='int')\n",
    "dt1 = np.empty(len(NArray))\n",
    "dt2 = np.empty(len(NArray))\n",
    "for i in range(len(NArray)):\n",
    "    w1, logdet1, dt1[i] = matrixsqrt(makeV1(NArray[i]))\n",
    "    w2, logdet2, dt2[i] = matrixsqrt(makeV2(NArray[i]))\n",
    "\n",
    "fig, ax = plt.subplots()\n",
    "ax.set_xscale('log', basex=2)\n",
    "ax.xlabel(\"D, Matrix Size\")\n",
    "ax.ylabel(\"Excecution time (s)\")\n",
    "ax.plot(NArray, dt1, 'r-')\n",
    "ax.plot(NArray, dt2, 'b-')\n",
    "plt.show()"
   ]
  },
  {
   "cell_type": "code",
   "execution_count": null,
   "metadata": {
    "collapsed": true
   },
   "outputs": [],
   "source": []
  }
 ],
 "metadata": {
  "kernelspec": {
   "display_name": "Python 2",
   "language": "python",
   "name": "python2"
  },
  "language_info": {
   "codemirror_mode": {
    "name": "ipython",
    "version": 2
   },
   "file_extension": ".py",
   "mimetype": "text/x-python",
   "name": "python",
   "nbconvert_exporter": "python",
   "pygments_lexer": "ipython2",
   "version": "2.7.12"
  }
 },
 "nbformat": 4,
 "nbformat_minor": 2
}
