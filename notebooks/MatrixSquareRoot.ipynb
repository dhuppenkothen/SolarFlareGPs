{
 "cells": [
  {
   "cell_type": "markdown",
   "metadata": {},
   "source": [
    "# Square Matrix Generator\n",
    "The purpose of this notebook is to write (and clearly comment) a function for finding the root of an inverse variance matrix and verifying it via matrix inversion, as well as timing the methods to see if they're viable for use for a 1000x1000 matrix.\n",
    "\n",
    "Here's the initial test matrices, as well as tests for ensuring they're symmetric (since they're real, this implies their Hermitian, which will make solving for eigenvectors and eigenvalues easier):"
   ]
  },
  {
   "cell_type": "code",
   "execution_count": 1,
   "metadata": {},
   "outputs": [
    {
     "name": "stdout",
     "output_type": "stream",
     "text": [
      "True\n",
      "True\n"
     ]
    }
   ],
   "source": [
    "import numpy as np\n",
    "import scipy as sp\n",
    "import scipy.linalg\n",
    "import time\n",
    "import matplotlib.pyplot as plt\n",
    "\n",
    "#setting the size of the arrays for testing, will start small for testing and then will scale up for timing\n",
    "N = 1000\n",
    "\n",
    "#sigmas exist on a uniform distribution from [100, 300]\n",
    "\n",
    "#pure diagonal matrix with equal values\n",
    "def makeV1(N, sigmarange=[100,300]):\n",
    "    sigma1 = np.random.random()*(sigmarange[1]-sigmarange[0]) + sigmarange[0]\n",
    "    V1 = sigma1 * np.identity(N)\n",
    "    return V1\n",
    "V1 = makeV1(N)\n",
    "#checks to ensure symmetry (and hermicity since all real)\n",
    "print np.allclose(V1,np.ndarray.transpose(V1))\n",
    "\n",
    "#diagonal matrix with different elements\n",
    "def makeV2(N, sigmarange=[100,300]):\n",
    "    sigma2 = np.random.rand(N)*(sigmarange[1]-sigmarange[0]) + sigmarange[0]\n",
    "    V2 = sigma2 * np.identity(N)\n",
    "    return V2\n",
    "V2 = makeV2(N)\n",
    "print np.allclose(V2,np.ndarray.transpose(V2))\n",
    "\n",
    "\n"
   ]
  },
  {
   "cell_type": "markdown",
   "metadata": {},
   "source": [
    "Let's write the method for finding the matrix square roots. The general idea is that we can decompose a matrix $V$ as:\n",
    "\n",
    "$V = \\sum_d^D \\lambda_d \\vec{U} \\vec{U}^T$\n",
    "or\n",
    "$V^{-1} = \\sum_d^D \\frac{1}{\\lambda_d} \\vec{U} \\vec{U}^T$\n",
    "\n",
    "Where $\\lambda_d$ are the eigenvalues, and $\\vec{U}_d$ are the corresponding eigenvectors. This can be further decomposed as:\n",
    "\n",
    "$V^{-1} = \\sum_d^D \\frac{1}{\\sqrt{\\lambda_d}}  \\vec{U} \\cdot \\vec{U}^T \\frac{1}{\\sqrt{\\lambda_d}}$\n",
    "\n",
    "If we set the definition $w_d \\equiv \\frac{1}{\\sqrt{\\lambda_d}} \\vec{U}_d ^T$, then we can write:\n",
    "\n",
    "$V^{-1}= w^{T} \\cdot w$\n",
    "\n",
    "So inverting the matrix becomes a simple case of finding the eigenvectors and eigenvalues, constructing $w$, and transposing and taking the dot product.\n",
    "\n",
    "My function below calculates $w$ (more accurately, calculates $w^T$ and transposes it):\n"
   ]
  },
  {
   "cell_type": "code",
   "execution_count": 2,
   "metadata": {},
   "outputs": [],
   "source": [
    "#computes matrix square root of inverse variance matrix provided variance matrix\n",
    "def matrixsqrt(V, label=\"0\"):\n",
    "    start = time.time()\n",
    "    N = len(V[0])\n",
    "    wt = np.empty([N,N]) #square root matrix (transposed)\n",
    "    logdet = 0.\n",
    "    #extracts eigenvalues and eigenvectors (bottleneck!)\n",
    "    eigs, eigvecs = sp.linalg.eigh(V)\n",
    "    for i in range(N):\n",
    "        #sets each column in our transposed square root to the eigenvalue scaled by 1/sqrt(eig)\n",
    "        wt[:,i] = (1./np.sqrt(eigs[i])) * eigvecs[:,i]\n",
    "        logdet += np.log(2 * np.pi * eigs[i])\n",
    "        #transposes the result\n",
    "    w = np.ndarray.transpose(wt)\n",
    "    end = time.time()\n",
    "    dt = end-start\n",
    "    if(label!=\"0\"):\n",
    "        print(\"Time elapsed for \" + label + \" is: \" + str(dt) + \"s\")\n",
    "    return w, logdet, dt\n",
    "\n",
    "def ismsqrt(w,V):\n",
    "    N = len(V[0])\n",
    "    if(np.allclose(np.dot(V, np.dot(np.ndarray.transpose(w), w)),np.identity(N))):\n",
    "        return True\n",
    "    else:\n",
    "        return False"
   ]
  },
  {
   "cell_type": "markdown",
   "metadata": {},
   "source": [
    "Let's test this with our two test functions. Taking the dot product of the matrix square root and it's transpose should produce $V^{-1}$, so the dot product of that with $V$ should  produce the identity matrix, so this is our test:"
   ]
  },
  {
   "cell_type": "code",
   "execution_count": 3,
   "metadata": {},
   "outputs": [
    {
     "name": "stdout",
     "output_type": "stream",
     "text": [
      "Time elapsed for V1 is: 0.251227855682s\n",
      "True\n",
      "Time elapsed for V2 is: 0.268337011337s\n",
      "True\n"
     ]
    }
   ],
   "source": [
    "w1, logdet1, dt1 = matrixsqrt(V1, label=\"V1\")\n",
    "print ismsqrt(w1,V1)\n",
    "\n",
    "\n",
    "w2, logdet2, dt2 = matrixsqrt(V2, label=\"V2\")\n",
    "print ismsqrt(w2,V2)"
   ]
  },
  {
   "cell_type": "markdown",
   "metadata": {},
   "source": [
    "Great, it looks like we're working. Let's try the third sample variance matrix, which is our second test matrix $V_2$ added with a kernal matrix $K$, defined as:\n",
    "\n",
    "$K_{ab} = A \\cdot exp\\left({-\\frac{1}{2}\\frac{(t_a-t_b)^2}{\\tau^2}}\\right)$\n",
    "\n",
    "Where $A$ and $\\tau$ are parameters to be fit corresponding to noise and time correlation, but for testing purposes, we'll set them to $A=200$ and $\\tau = 30s$."
   ]
  },
  {
   "cell_type": "code",
   "execution_count": 4,
   "metadata": {},
   "outputs": [
    {
     "name": "stdout",
     "output_type": "stream",
     "text": [
      "True\n"
     ]
    }
   ],
   "source": [
    "def makeV3(N, sigmarange=[100,300], A=300, tau=30):\n",
    "    K = np.empty([N,N])\n",
    "    t = np.arange(N, dtype='int')\n",
    "    for i in range(N):\n",
    "        for j in range(N):\n",
    "            K[i][j] = A * np.exp(-0.5 * (t[i]-t[j])**2 / (tau **2))\n",
    "    V3 = makeV2(N, sigmarange=sigmarange) + K\n",
    "    return V3\n",
    "V3 = makeV3(N)\n",
    "print np.allclose(V3,np.ndarray.transpose(V3))"
   ]
  },
  {
   "cell_type": "markdown",
   "metadata": {},
   "source": [
    "And now, let's try to find the matrix square root of this guy:"
   ]
  },
  {
   "cell_type": "code",
   "execution_count": 7,
   "metadata": {},
   "outputs": [
    {
     "name": "stdout",
     "output_type": "stream",
     "text": [
      "Time elapsed for V3 is: 0.367702960968s\n",
      "True\n"
     ]
    }
   ],
   "source": [
    "w3, logdet3, dt3 = matrixsqrt(V3, label=\"V3\")\n",
    "#Didn't print the matrix because it's too big and contains small off-diagonal elements \n",
    "print ismsqrt(w3,V3)"
   ]
  },
  {
   "cell_type": "markdown",
   "metadata": {},
   "source": [
    "Lets make a time plot to see how efficient our method is:"
   ]
  },
  {
   "cell_type": "code",
   "execution_count": 10,
   "metadata": {},
   "outputs": [
    {
     "name": "stdout",
     "output_type": "stream",
     "text": [
      "Generating Arrays...\n",
      "0\n",
      "1\n",
      "2\n",
      "3\n",
      "4\n",
      "5\n",
      "6\n",
      "7\n",
      "8\n",
      "9\n",
      "10\n",
      "11\n",
      "12\n",
      "13\n",
      "Done\n"
     ]
    }
   ],
   "source": [
    "import time\n",
    "\n",
    "NArray = np.logspace(1, 14, num=14, base=2, dtype='int')\n",
    "#dt1 = np.empty(len(NArray))\n",
    "#dt2 = np.empty(len(NArray))\n",
    "dt3 = np.empty(len(NArray))\n",
    "w = []\n",
    "V = []\n",
    "print \"Generating Arrays...\"\n",
    "for i in range(len(NArray)):\n",
    "    print i\n",
    "    w.append(np.empty([NArray[i],NArray[i]]))\n",
    "    start = time.time()\n",
    "    V.append((makeV3(NArray[i])))\n",
    "    dt = time.time() - start\n",
    "    if (dt>2000):\n",
    "        break;\n",
    "print \"Done\""
   ]
  },
  {
   "cell_type": "markdown",
   "metadata": {},
   "source": [
    "After array generation..."
   ]
  },
  {
   "cell_type": "code",
   "execution_count": 12,
   "metadata": {},
   "outputs": [
    {
     "name": "stdout",
     "output_type": "stream",
     "text": [
      "Working...\n",
      "0/14, Size:2, Time:0.0012149810791 , Actual time: 0.00122499465942\n",
      "1/14, Size:4, Time:0.000230073928833 , Actual time: 0.000236988067627\n",
      "2/14, Size:8, Time:0.000249862670898 , Actual time: 0.000256061553955\n",
      "3/14, Size:16, Time:0.000536918640137 , Actual time: 0.000548124313354\n",
      "4/14, Size:32, Time:0.000821113586426 , Actual time: 0.000831127166748\n",
      "5/14, Size:64, Time:0.00205683708191 , Actual time: 0.00206804275513\n",
      "6/14, Size:128, Time:0.00768399238586 , Actual time: 0.00770282745361\n",
      "7/14, Size:256, Time:0.0257630348206 , Actual time: 0.0370950698853\n",
      "8/14, Size:512, Time:0.0855209827423 , Actual time: 0.0855858325958\n",
      "9/14, Size:1024, Time:0.567422151566 , Actual time: 0.568414926529\n",
      "10/14, Size:2048, Time:2.74666404724 , Actual time: 2.75040793419\n",
      "11/14, Size:4096, Time:19.3583049774 , Actual time: 19.374712944\n",
      "12/14, Size:8192, Time:166.476687908 , Actual time: 166.521066904\n",
      "13/14, Size:16384, Time:1913.59712315 , Actual time: 1913.83592892\n"
     ]
    },
    {
     "data": {
      "image/png": "[encoded data removed]",
      "text/plain": [
       "<matplotlib.figure.Figure at 0x1113a8e50>"
      ]
     },
     "metadata": {},
     "output_type": "display_data"
    }
   ],
   "source": [
    "\n",
    "print \"Working...\"\n",
    "for i in range(len(V)):\n",
    "#    w1, logdet1, dt1[i] = matrixsqrt(makeV1(NArray[i]))\n",
    "#    w2, logdet2, dt2[i] = matrixsqrt(makeV2(NArray[i]))\n",
    "    w[i], logdet3, dt3[i] = matrixsqrt(V[i])\n",
    "    print(str(i) + '/' + str(len(NArray)-1) + \", Size:\" + str(NArray[i]) + \", Time:\" + str(dt3[i]))\n",
    "    if(dt3[i]>(2**10)):\n",
    "        break;\n",
    "print \"DONE\""
   ]
  },
  {
   "cell_type": "code",
   "execution_count": 18,
   "metadata": {},
   "outputs": [
    {
     "data": {
      "image/png": "[encoded data removed]",
      "text/plain": [
       "<matplotlib.figure.Figure at 0x10e49fd50>"
      ]
     },
     "metadata": {},
     "output_type": "display_data"
    }
   ],
   "source": [
    "fig, ax = plt.subplots()\n",
    "ax.set_xscale('log', basex=2)\n",
    "ax.set_yscale('log', basey=2)\n",
    "ax.set_ylabel(\"Time (t)\")\n",
    "#ax.plot(NArray, dt1, 'r-', label='V1')\n",
    "#ax.plot(NArray, dt2, 'b-', label='V2')\n",
    "ax.plot(dt3, NArray, 'g-', label='D = t')\n",
    "ax.plot(dt3, (NArray/200.)**2, 'b-', label='(D/200)^2 = t')\n",
    "ax.plot(dt3, (NArray/2014)**3, 'r-', label='(D/2014)^3 = t')\n",
    "ax.legend()\n",
    "plt.show()"
   ]
  },
  {
   "cell_type": "code",
   "execution_count": 16,
   "metadata": {},
   "outputs": [
    {
     "name": "stdout",
     "output_type": "stream",
     "text": [
      "[    2     4     8    16    32    64   128   256   512  1024  2048  4096\n",
      "  8192 16384]\n",
      "[        4        16        64       256      1024      4096     16384\n",
      "     65536    262144   1048576   4194304  16777216  67108864 268435456]\n"
     ]
    }
   ],
   "source": []
  }
 ],
 "metadata": {
  "kernelspec": {
   "display_name": "Python 2",
   "language": "python",
   "name": "python2"
  },
  "language_info": {
   "codemirror_mode": {
    "name": "ipython",
    "version": 2
   },
   "file_extension": ".py",
   "mimetype": "text/x-python",
   "name": "python",
   "nbconvert_exporter": "python",
   "pygments_lexer": "ipython2",
   "version": "2.7.13"
  }
 },
 "nbformat": 4,
 "nbformat_minor": 2
}
